{
  "nbformat": 4,
  "nbformat_minor": 0,
  "metadata": {
    "colab": {
      "provenance": []
    },
    "kernelspec": {
      "name": "python3",
      "display_name": "Python 3"
    },
    "language_info": {
      "name": "python"
    }
  },
  "cells": [
    {
      "cell_type": "code",
      "source": [
        "import sklearn\n",
        "from sklearn.preprocessing import *\n",
        "import numpy as np\n",
        "from numpy import *\n",
        "\n",
        "# pip install sklearn\n",
        "\n",
        "\n",
        "def normalization(data):\n",
        "    data_mm = (data - data.min(axis=0)) / (data.max(axis=0) - data.min(axis=0))\n",
        "    return data_mm\n",
        "\n",
        "\n",
        "def numpy_standardization(data):\n",
        "    \"\"\"\n",
        "    (각데이터 - 평균(각열)) / 표준편차(각열)\n",
        "    \"\"\"\n",
        "    std_data = (data - np.mean(data, axis=0) / np.std(data, axis=0))\n",
        "    return std_data\n",
        "\n",
        "\n",
        "def main():\n",
        "    data = np.random.randint(30, size=(6, 5))\n",
        "    # print(data)\n",
        "    std_data_temp = numpy_standardization(data)\n",
        "    print(std_data_temp)\n",
        "\n",
        "    no_data = normalization(data)\n",
        "    print(no_data)\n",
        "\n",
        "\n",
        "if __name__ == '__main__':\n",
        "    main()"
      ],
      "metadata": {
        "colab": {
          "base_uri": "https://localhost:8080/"
        },
        "id": "DY3XCX_bG4Xy",
        "outputId": "e288342e-7055-4f81-d4f0-2e3cc4578ff5"
      },
      "execution_count": 3,
      "outputs": [
        {
          "output_type": "stream",
          "name": "stdout",
          "text": [
            "[[ 1.58666644  0.77964054  0.46268455 24.68428921  0.43113076]\n",
            " [ 2.58666644 -1.22035946 19.46268455  4.68428921 19.43113076]\n",
            " [26.58666644 21.77964054 12.46268455  5.68428921  6.43113076]\n",
            " [ 8.58666644 14.77964054 22.46268455 -0.31571079  4.43113076]\n",
            " [11.58666644 25.77964054  1.46268455 24.68428921  8.43113076]\n",
            " [25.58666644  5.77964054 10.46268455  9.68428921  6.43113076]]\n",
            "[[0.         0.07407407 0.         1.         0.        ]\n",
            " [0.04       0.         0.86363636 0.2        1.        ]\n",
            " [1.         0.85185185 0.54545455 0.24       0.31578947]\n",
            " [0.28       0.59259259 1.         0.         0.21052632]\n",
            " [0.4        1.         0.04545455 1.         0.42105263]\n",
            " [0.96       0.25925926 0.45454545 0.4        0.31578947]]\n"
          ]
        }
      ]
    },
    {
      "cell_type": "code",
      "execution_count": 2,
      "metadata": {
        "colab": {
          "base_uri": "https://localhost:8080/"
        },
        "id": "QXXL_HE5FvFd",
        "outputId": "2c5ef5ee-6411-4adc-866e-ff868584efb0"
      },
      "outputs": [
        {
          "output_type": "stream",
          "name": "stdout",
          "text": [
            "원본 특성 개수 :  64\n",
            "줄어든 특성 개수 :  54\n"
          ]
        }
      ],
      "source": [
        "from sklearn.preprocessing import StandardScaler\n",
        "from sklearn.decomposition import PCA\n",
        "from sklearn import datasets\n",
        "\n",
        "digits = datasets.load_digits()\n",
        "\n",
        "features = StandardScaler().fit_transform(digits.data)\n",
        "# 99%의 분산을 유지하도록 PCA 클래스 객체 생성\n",
        "pca = PCA(n_components=0.99, whiten=True)\n",
        "features_pca = pca.fit_transform(features)\n",
        "print(\"원본 특성 개수 : \", features.shape[1])\n",
        "print(\"줄어든 특성 개수 : \", features_pca.shape[1])"
      ]
    },
    {
      "cell_type": "code",
      "source": [
        "# 주성분을 사용해 특성 줄이기\n",
        "# 사이킷런 손글씨 데이터를 활용하여 특성 행렬을 표준화 처리 및 주성분 특성 줄이기\n",
        "from sklearn.preprocessing import StandardScaler\n",
        "from sklearn.decomposition import PCA\n",
        "from sklearn import datasets\n",
        "import numpy as np\n",
        "import matplotlib.pyplot as plt\n",
        "\n",
        "digits = datasets.load_digits()  # 8x8 크기의 손글씨 숫자 데이터 로드\n",
        "# 특성 행렬을 표준화 처리\n",
        "features = StandardScaler().fit_transform(digits.data)\n",
        "# 99% 의 분산을 유지하도록 PCA 클래스 객체 생성\n",
        "pca = PCA(n_components=0.99, whiten=True)\n",
        "features_pca = pca.fit_transform(features)\n",
        "print(\"원본 특성 개수 : \", features.shape[1])\n",
        "print(\"줄어든 특성 개수 : \", features_pca.shape[1])\n",
        "\n",
        "# # 주성분에 투영된 처음 두 개의 특성을 사용해 산점도 출력\n",
        "# plt.scatter(features_pca[:, 0], features_pca[:, 1])\n",
        "# plt.show()\n",
        "\n",
        "# 화이트닝\n",
        "pca_nowhiten = PCA(n_components=0.99)\n",
        "features_nowhiten = pca_nowhiten.fit_transform(features)\n",
        "plt.scatter(features_nowhiten[:, 0], features_nowhiten[:, 1])\n",
        "plt.show()\n",
        "\n",
        "# 특성 행렬을 주성분에 투영하려면 components_ 배열 전치하여 행렬곱을 수행합니다.\n",
        "# 넘파이 allclose()를 사용하여 features_nowhiten 배열과 동일한지 확인\n",
        "np.allclose(features_nowhiten, np.dot(features, pca_nowhiten.components_.T))\n",
        "\n",
        "pca = PCA(whiten=True).fit(features)\n",
        "plt.plot(np.cumsum(pca.explained_variance_ratio_))\n",
        "plt.show()\n",
        "\n",
        "\n",
        "# 넘파이 cumsum()를 사용하여 분산을 누적하여 그래프 출력\n",
        "# 대략 30개의 주성분으로도 80이상의 분산을 유지\n",
        "# 표준화하지 않은 원본 데이터 사용\n",
        "pca.fit(digits.data)\n",
        "plt.plot(np.cumsum(pca.explained_variance_ratio_))\n",
        "plt.show()\n"
      ],
      "metadata": {
        "colab": {
          "base_uri": "https://localhost:8080/",
          "height": 797
        },
        "id": "IxBJ6xs4Gjai",
        "outputId": "6485acd1-b8a2-4c25-aa84-ad9d91d5335d"
      },
      "execution_count": 4,
      "outputs": [
        {
          "output_type": "stream",
          "name": "stdout",
          "text": [
            "원본 특성 개수 :  64\n",
            "줄어든 특성 개수 :  54\n"
          ]
        },
        {
          "output_type": "display_data",
          "data": {
            "text/plain": [
              "<Figure size 432x288 with 1 Axes>"
            ],
            "image/png": "[encoded data removed]"
          },
          "metadata": {
            "needs_background": "light"
          }
        },
        {
          "output_type": "display_data",
          "data": {
            "text/plain": [
              "<Figure size 432x288 with 1 Axes>"
            ],
            "image/png": "[encoded data removed]"
          },
          "metadata": {
            "needs_background": "light"
          }
        },
        {
          "output_type": "display_data",
          "data": {
            "text/plain": [
              "<Figure size 432x288 with 1 Axes>"
            ],
            "image/png": "[encoded data removed]"
          },
          "metadata": {
            "needs_background": "light"
          }
        }
      ]
    },
    {
      "cell_type": "code",
      "source": [
        "# 선형적으로 구분되지 않는 데이터차원 축소\n",
        "from sklearn.decomposition import KernelPCA\n",
        "from sklearn.datasets import make_circles\n",
        "\n",
        "# 선형적으로 구분되지 않는 데이터를 만듭니다.\n",
        "features, _ = make_circles(\n",
        "    n_samples=1000, random_state=1, noise=0.1, factor=0.1)\n",
        "print(features)\n",
        "\n",
        "# 방사 기저 함수 (radius basis function, RBF)를 사용하여 커널 PCA 적용\n",
        "kpca = KernelPCA(kernel=\"rbf\", gamma=15, n_components=1)\n",
        "features_kpca = kpca.fit_transform(features)\n",
        "\n",
        "print(\"원본 특성 개수 : \", features.shape[1])\n",
        "print(\"줄어든 특성 개수 : \", features_kpca.shape[1])\n"
      ],
      "metadata": {
        "colab": {
          "base_uri": "https://localhost:8080/"
        },
        "id": "0yhuwxqhO1qD",
        "outputId": "de29386c-a595-448b-d50b-51c37829fcbf"
      },
      "execution_count": 5,
      "outputs": [
        {
          "output_type": "stream",
          "name": "stdout",
          "text": [
            "[[ 0.23058395 -0.10671314]\n",
            " [-0.0834218  -0.22647078]\n",
            " [ 0.9246533  -0.71492522]\n",
            " ...\n",
            " [ 0.02517206  0.00964548]\n",
            " [-0.92836187  0.06693357]\n",
            " [ 1.03502248  0.54878286]]\n",
            "원본 특성 개수 :  2\n",
            "줄어든 특성 개수 :  1\n"
          ]
        }
      ]
    },
    {
      "cell_type": "code",
      "source": [
        "from sklearn import datasets\n",
        "from sklearn.discriminant_analysis import LinearDiscriminantAnalysis\n",
        "\n",
        "iris = datasets.load_iris()  # 붓꽃 데이터셋을 로드\n",
        "features = iris.data\n",
        "target = iris.target\n",
        "\n",
        "# LAD 객체 만들고 실행하여 특성을 변환합니다 .\n",
        "lda = LinearDiscriminantAnalysis(n_components=None)\n",
        "features_lad = lda.fit(features, target)\n",
        "\n",
        "# print(\"원본 특성 개수 : \", features.shape[1])\n",
        "# print(\"줄어든 특성 개수 : \", features_lad.shape[1])\n",
        "\n",
        "# 설명된 분산의 비율이 담긴 배열을 저장\n",
        "lda_var_ratios = lda.explained_variance_ratio_\n",
        "print(lda_var_ratios)\n",
        "\n",
        "\n",
        "def select_n_components(var_ratio, goal_var: float) -> int:\n",
        "    total_variances = 0.0  # 설명된 분산의 초기값을 지정\n",
        "    n_components = 0  # 특성 개수의 초기값을 지정\n",
        "\n",
        "    for explained_variance in var_ratio:  # 각 특성 의 성명된 분산을 순회 Loop\n",
        "        total_variances += explained_variance  # 설명된 분산 값을 누적\n",
        "        n_components += 1  # 성분 개수를 카운트\n",
        "        if total_variances >= goal_var:  # 설명된 분산이 목표치에 도달하면 반복을 종료\n",
        "            break\n",
        "    return n_components  # 성분 개수를 반환\n",
        "\n",
        "\n",
        "temp = select_n_components(lda_var_ratios, 0.95)\n",
        "print(\"temp = \", temp)\n"
      ],
      "metadata": {
        "colab": {
          "base_uri": "https://localhost:8080/"
        },
        "id": "OlhMtQf1XCRe",
        "outputId": "8f60b0c4-aae0-4976-fc78-135c04fa0837"
      },
      "execution_count": 6,
      "outputs": [
        {
          "output_type": "stream",
          "name": "stdout",
          "text": [
            "[0.9912126 0.0087874]\n",
            "temp =  1\n"
          ]
        }
      ]
    },
    {
      "cell_type": "code",
      "source": [
        "# 순서가 없는 범주형 특성 인코딩\n",
        "# 사이킷런의 LabelBinarizer를 사용하여 문자열 타깃 데이터를 원-핫 인코딩\n",
        "# 하나의 값으로 처리 된 모습\n",
        "import numpy as np\n",
        "from sklearn.preprocessing import OneHotEncoder\n",
        "from sklearn.preprocessing import LabelBinarizer\n",
        "\n",
        "feature = np.array([[\"Texas\"],\n",
        "                    [\"California\"],\n",
        "                    [\"awdv\"],\n",
        "                    [\"Delaware\"],\n",
        "                    [\"Texas\"]])\n",
        "print(feature)  # 특성 데이터 생성\n",
        "\n",
        "one_hot = LabelBinarizer()  # 원한 인코더 생성\n",
        "one_hot.fit_transform(feature)  # 특성을 원-핫 인코딩 변환\n",
        "print(one_hot.classes_)  # ['California' 'Delaware' 'Texas']\n",
        "one_hot_data = one_hot.inverse_transform(one_hot.transform(feature))\n",
        "# ['Texas' 'California' 'Texas' 'Delaware' 'Texas']\n",
        "print(\"one_hot >> \", one_hot_data)\n"
      ],
      "metadata": {
        "colab": {
          "base_uri": "https://localhost:8080/"
        },
        "id": "SvzVC2qHXCkn",
        "outputId": "e2ee598e-d0f3-4b16-8c6a-dce4919f6d50"
      },
      "execution_count": 7,
      "outputs": [
        {
          "output_type": "stream",
          "name": "stdout",
          "text": [
            "[['Texas']\n",
            " ['California']\n",
            " ['awdv']\n",
            " ['Delaware']\n",
            " ['Texas']]\n",
            "['California' 'Delaware' 'Texas' 'awdv']\n",
            "one_hot >>  ['Texas' 'California' 'awdv' 'Delaware' 'Texas']\n"
          ]
        }
      ]
    },
    {
      "cell_type": "code",
      "source": [
        "# MultiLabelBinarizer\n",
        "import numpy as np\n",
        "from sklearn.preprocessing import OneHotEncoder\n",
        "from sklearn.preprocessing import MultiLabelBinarizer\n",
        "\n",
        "multiclass_feature = [(\"Texas\", \"Florida\"),\n",
        "                      (\"California\", \"alabama\"),\n",
        "                      (\"Texas\", \"Florida\"),\n",
        "                      (\"Delware\", \"Florida\"),\n",
        "                      (\"Texas\", \"Florida\"), ]\n",
        "# print(multiclass_feature)  # 특성 데이터 생성\n",
        "\n",
        "one_hot_multiclass = MultiLabelBinarizer()  # 다중 클래스 원-핫 인코더 객체 생성\n",
        "one_hot_multiclass.fit_transform(multiclass_feature)  # 다중 클래스 특성을 원-핫 인코더 실행\n",
        "\n",
        "one_hot_multiclass_classes = one_hot_multiclass.classes_\n",
        "\n",
        "one_hot_data = one_hot_multiclass.inverse_transform(\n",
        "    one_hot_multiclass.transform(multiclass_feature))\n",
        "\n",
        "print(\"classes >> \", one_hot_multiclass_classes)\n",
        "print(\"one_hot_data >> \", one_hot_data)\n",
        "\"\"\"\n",
        "결과 \n",
        "classes >>  ['California' 'Delware' 'Florida' 'Texas' 'alabama']\n",
        "one_hot_data >>  [('Florida', 'Texas'), ('California', 'alabama'), ('Florida', 'Texas'), ('Delware', 'Florida'), ('Florida', 'Texas')]\n",
        "\"\"\"\n"
      ],
      "metadata": {
        "colab": {
          "base_uri": "https://localhost:8080/",
          "height": 90
        },
        "id": "cCOsY0_zcAHW",
        "outputId": "3e49bc92-b64d-431b-9805-75bf22ed90ea"
      },
      "execution_count": 8,
      "outputs": [
        {
          "output_type": "stream",
          "name": "stdout",
          "text": [
            "classes >>  ['California' 'Delware' 'Florida' 'Texas' 'alabama']\n",
            "one_hot_data >>  [('Florida', 'Texas'), ('California', 'alabama'), ('Florida', 'Texas'), ('Delware', 'Florida'), ('Florida', 'Texas')]\n"
          ]
        },
        {
          "output_type": "execute_result",
          "data": {
            "text/plain": [
              "\"\\n결과 \\nclasses >>  ['California' 'Delware' 'Florida' 'Texas' 'alabama']\\none_hot_data >>  [('Florida', 'Texas'), ('California', 'alabama'), ('Florida', 'Texas'), ('Delware', 'Florida'), ('Florida', 'Texas')]\\n\""
            ],
            "application/vnd.google.colaboratory.intrinsic+json": {
              "type": "string"
            }
          },
          "metadata": {},
          "execution_count": 8
        }
      ]
    },
    {
      "cell_type": "code",
      "source": [
        "# 순서가 없는 범주형 데이터 처리\n",
        "# 사이킷런의 LabelBinarize를 사용하여 문자열 타깃 데이터 원 - 핫 인코딩 진행\n",
        "import numpy as np\n",
        "from sklearn.preprocessing import OneHotEncoder\n",
        "\n",
        "feature = np.array([[\"Texas\", 1], [\"California\", 1],\n",
        "                   [\"Texas\", 3], [\"Delaware\", 1], [\"Texas\", 1]])\n",
        "print(feature)\n",
        "one_hot_encoder = OneHotEncoder(sparse=False)\n",
        "one_hot_encoder.fit_transform(feature)\n",
        "one_hot_encoder_data = one_hot_encoder.categories_  # 클래스 확인\n"
      ],
      "metadata": {
        "colab": {
          "base_uri": "https://localhost:8080/"
        },
        "id": "ZU4YldYaeSUS",
        "outputId": "33bed583-3aff-45da-9419-1741a9e87426"
      },
      "execution_count": 9,
      "outputs": [
        {
          "output_type": "stream",
          "name": "stdout",
          "text": [
            "[['Texas' '1']\n",
            " ['California' '1']\n",
            " ['Texas' '3']\n",
            " ['Delaware' '1']\n",
            " ['Texas' '1']]\n"
          ]
        }
      ]
    },
    {
      "cell_type": "code",
      "source": [
        "# 판다스 데이터프레임의 replace()를 사용하여 문자열 레이블을 수치값으로 변환합니다.\n",
        "import pandas as pd\n",
        "\n",
        "dataframe = pd.DataFrame(\n",
        "    {\"Score\": [\"Low\", \"Low\", \"Medium\", \"Medium\", \"High\"]})  # 특성 데이터 생성\n",
        "scale_mapper = {\"Low\": 1,\n",
        "                \"Medium\": 2,\n",
        "                \"High\": 3}  # 매핑 딕셔너리 생성\n",
        "dataframe[\"Score\"].replace(scale_mapper)  # 특성을 정수로 변환\n",
        "dataframe = pd.DataFrame(\n",
        "    {\"Score\": [\"Low\", \"Low\", \"Medium\", \"Medium\", \"High\", \"Barely More Than Medium\"]})\n",
        "scale_mapper = {\"Low\": 1,\n",
        "                \"Medium\": 2,\n",
        "                \"Barely More Than Medium\": 3,\n",
        "                \"High\": 4}  # 매핑 딕셔너리 생성\n",
        "data = dataframe[\"Score\"].replace(scale_mapper)  # 특성을 정수로 변환\n",
        "print(data)\n"
      ],
      "metadata": {
        "colab": {
          "base_uri": "https://localhost:8080/"
        },
        "id": "A57HbymGsskp",
        "outputId": "af645162-7273-4ac6-e5fa-ef1f8939f0b9"
      },
      "execution_count": 10,
      "outputs": [
        {
          "output_type": "stream",
          "name": "stdout",
          "text": [
            "0    1\n",
            "1    1\n",
            "2    2\n",
            "3    2\n",
            "4    4\n",
            "5    3\n",
            "Name: Score, dtype: int64\n"
          ]
        }
      ]
    },
    {
      "cell_type": "code",
      "source": [
        "import numpy as np\n",
        "from sklearn.preprocessing import OrdinalEncoder\n",
        "\n",
        "features = np.array([[\"Low\", 10], [\"High\", 50], [\"Medium\", 3]])\n",
        "ordinal_encoding = OrdinalEncoder()\n",
        "ordinal_encoding.fit_transform(features)\n",
        "ordinal_encoding_data = ordinal_encoding.categories_\n",
        "\n",
        "print(\"ordinal_encoding.categories_\", ordinal_encoding_data)\n"
      ],
      "metadata": {
        "colab": {
          "base_uri": "https://localhost:8080/"
        },
        "id": "efd_d9XPswuD",
        "outputId": "15786120-47a5-4f52-f3b8-363836e48cac"
      },
      "execution_count": 11,
      "outputs": [
        {
          "output_type": "stream",
          "name": "stdout",
          "text": [
            "ordinal_encoding.categories_ [array(['High', 'Low', 'Medium'], dtype='<U21'), array(['10', '3', '50'], dtype='<U21')]\n"
          ]
        }
      ]
    },
    {
      "cell_type": "code",
      "source": [
        "# 딕셔너리 특성 행렬로 변환\n",
        "import pandas as pd\n",
        "from sklearn.feature_extraction import DictVectorizer\n",
        "data_dict = [{\"Red\": 2, \"Blue\": 4},\n",
        "             {\"Red\": 4, \"Blue\": 3},\n",
        "             {\"Red\": 1, \"Yellow\": 2},\n",
        "             {\"Red\": 2, \"Yellow\": 2}\n",
        "             ]\n",
        "# print(data_dict)\n",
        "# [{'Red': 2, 'Blue': 4}, {'Red': 4, 'Blue': 3}, {'Red': 1, 'Yellow': 2}, {'Red': 2, 'Yellow': 2}]\n",
        "dictvectorizer = DictVectorizer(sparse=False)\n",
        "# 0아닌 원소만 저장하는 희소 행렬을 반환\n",
        "# 딕셔너리를 특성 행렬로 변환\n",
        "features = dictvectorizer.fit_transform(data_dict)\n",
        "features_names = dictvectorizer.get_feature_names()  # 특성 이름 획득 가능\n",
        "# print(features_names)\n",
        "dict_data = pd.DataFrame(features, columns=features_names)\n",
        "print(dict_data)\n",
        "\n",
        "# 행렬 형태\n",
        "# 단어 카운트 딕셔너리 만들기\n",
        "doc_1_word_count = {\"Red\": 2, \"Blue\": 4}\n",
        "doc_2_word_count = {\"Red\": 4, \"Blue\": 4}\n",
        "doc_3_word_count = {\"Red\": 1, \"Yellow\": 2}\n",
        "doc_4_word_count = {\"Red\": 2, \"Yellow\": 2}\n",
        "doc_word_counts = [doc_1_word_count, doc_2_word_count,\n",
        "                   doc_3_word_count, doc_4_word_count]\n",
        "print(doc_word_counts)\n",
        "\n",
        "data_array = dictvectorizer.fit_transform(doc_word_counts)\n",
        "print(data_array)\n"
      ],
      "metadata": {
        "colab": {
          "base_uri": "https://localhost:8080/"
        },
        "id": "0HefnD4js2YV",
        "outputId": "7bb98fb9-f2ba-4002-99a9-623c713a82fb"
      },
      "execution_count": 12,
      "outputs": [
        {
          "output_type": "stream",
          "name": "stdout",
          "text": [
            "   Blue  Red  Yellow\n",
            "0   4.0  2.0     0.0\n",
            "1   3.0  4.0     0.0\n",
            "2   0.0  1.0     2.0\n",
            "3   0.0  2.0     2.0\n",
            "[{'Red': 2, 'Blue': 4}, {'Red': 4, 'Blue': 4}, {'Red': 1, 'Yellow': 2}, {'Red': 2, 'Yellow': 2}]\n",
            "[[4. 2. 0.]\n",
            " [4. 4. 0.]\n",
            " [0. 1. 2.]\n",
            " [0. 2. 2.]]\n"
          ]
        },
        {
          "output_type": "stream",
          "name": "stderr",
          "text": [
            "/usr/local/lib/python3.8/dist-packages/sklearn/utils/deprecation.py:87: FutureWarning: Function get_feature_names is deprecated; get_feature_names is deprecated in 1.0 and will be removed in 1.2. Please use get_feature_names_out instead.\n",
            "  warnings.warn(msg, category=FutureWarning)\n"
          ]
        }
      ]
    },
    {
      "cell_type": "code",
      "source": [
        "import numpy as np\n",
        "from sklearn.neighbors import KNeighborsClassifier\n",
        "\n",
        "x_input = np.array([[0, 2.10, 1.45],\n",
        "                    [1, 1.18, 1.33],\n",
        "                    [0, 1.22, 1.27],\n",
        "                    [1, -0.21, -1.19]])\n",
        "# 범주형 특성을 가진 행렬 생성\n",
        "print(x_input)\n",
        "\n",
        "x_with_nan = np.array([[np.nan, 0.87, 1.31], [np.nan, -0.67, -0.22]])\n",
        "clf = KNeighborsClassifier(3, weights=\"distance\")  # KNN 객체 생성\n",
        "trained_model = clf.fit(x_input[:, 1:], x_input[:, 0])  # 훈련\n",
        "imputed_val = trained_model.predict(x_with_nan[:, 1:])  # 누락된 값의 클래스를 예측\n",
        "x_with_imputed = np.hstack((imputed_val.reshape(-1, 1), x_with_nan[:, 1:]))\n",
        "data = np.vstack((x_with_imputed, x_input))  # 두 특성 행렬을 연결\n",
        "print(data)\n"
      ],
      "metadata": {
        "colab": {
          "base_uri": "https://localhost:8080/"
        },
        "id": "zXuiil3O75aH",
        "outputId": "e5382d3c-4714-4f3f-b260-3c791f5d0137"
      },
      "execution_count": 13,
      "outputs": [
        {
          "output_type": "stream",
          "name": "stdout",
          "text": [
            "[[ 0.    2.1   1.45]\n",
            " [ 1.    1.18  1.33]\n",
            " [ 0.    1.22  1.27]\n",
            " [ 1.   -0.21 -1.19]]\n",
            "[[ 0.    0.87  1.31]\n",
            " [ 1.   -0.67 -0.22]\n",
            " [ 0.    2.1   1.45]\n",
            " [ 1.    1.18  1.33]\n",
            " [ 0.    1.22  1.27]\n",
            " [ 1.   -0.21 -1.19]]\n"
          ]
        }
      ]
    },
    {
      "cell_type": "code",
      "source": [
        "# 누락된 클래스 값 대처 하기 -2\n",
        "# 누락된 값을 특성에 가장 자주 등장하는 값으로 채우기\n",
        "from sklearn.impute import SimpleImputer\n",
        "from sklearn.neighbors import KNeighborsClassifier\n",
        "import numpy as np\n",
        "x = np.array([[0, 2.10, 1.45],\n",
        "              [1, 1.18, 1.33],\n",
        "              [0, 1.22, 1.27],\n",
        "              [1, -0.21, -1.19]])\n",
        "# 범주형 특성을 가진 행렬 생성\n",
        "# 범주형 특성에 누락된 값이 있는 특성 행렬 만들기\n",
        "x_with_nan = np.array([[np.nan, 0.87, 1.31], [np.nan, -0.67, -0.22]])\n",
        "clf = KNeighborsClassifier(3, weights=\"distance\")  # KNN 객체 생성\n",
        "trained_model = clf.fit(x[:, 1:], x[:, 0])  # 훈련\n",
        "imputed_val = trained_model.predict(x_with_nan[:, 1:])  # 누락된 값의 클래스를 예측\n",
        "x_with_imputed = np.hstack((imputed_val.reshape(-1, 1), x_with_nan[:, 1:]))\n",
        "data = np.vstack((x_with_imputed, x))  # 두 특성 행렬을 연결\n",
        "\n",
        "# 누락된 클래스 값 대처하기 -02\n",
        "# 두개의 특성 행렬로 합침\n",
        "# 누락된 값을 특성에서 가장 자주 등장하는 값으로 채우기\n",
        "x_complete = np.vstack((x_with_nan, x))\n",
        "imputer = SimpleImputer(strategy=\"most_frequent\")\n",
        "data_imputer = imputer.fit_transform(x_complete)\n",
        "print(data_imputer)\n"
      ],
      "metadata": {
        "colab": {
          "base_uri": "https://localhost:8080/"
        },
        "id": "G_3AltRi79h6",
        "outputId": "2bafade7-4828-45bf-9758-4b8362d5f108"
      },
      "execution_count": 14,
      "outputs": [
        {
          "output_type": "stream",
          "name": "stdout",
          "text": [
            "[[ 0.    0.87  1.31]\n",
            " [ 0.   -0.67 -0.22]\n",
            " [ 0.    2.1   1.45]\n",
            " [ 1.    1.18  1.33]\n",
            " [ 0.    1.22  1.27]\n",
            " [ 1.   -0.21 -1.19]]\n"
          ]
        }
      ]
    },
    {
      "cell_type": "code",
      "source": [
        "# 텍스트 데이터 처리 01\n",
        "import re\n",
        "text_data = [\" Interrobang. By Aishwarya Henriette\",\n",
        "             \"Parking and going. By Kear Gua\",\n",
        "             \"Today Is the night. By Jar par\"]\n",
        "\n",
        "# 공백 제거\n",
        "strip_whitespace = [string.strip() for string in text_data]\n",
        "print(\"공백 제거 >> \", strip_whitespace)\n",
        "\n",
        "# 마침표 제거\n",
        "remove_periods = [string.replace(\".\", \"\") for string in strip_whitespace]\n",
        "print(\"마침표 제거 >> \", remove_periods)\n",
        "\"\"\"\n",
        "결과 \n",
        "공백 제거 >>  ['Interrobang. By Aishwarya Henriette', 'Parking and going. By Kear Gua', 'Today Is the night. By Jar par']\n",
        "마침표 제거 >>  ['Interrobang By Aishwarya Henriette', 'Parking and going By Kear Gua', 'Today Is the night By Jar par']\n",
        "\"\"\"\n",
        "\n",
        "\n",
        "def capitalizer(string: str) -> str: return string.upper()\n",
        "# ['INTERROBANG BY AISHWARYA HENRIETTE', 'PARKING AND GOING BY KEAR GUA', 'TODAY IS THE NIGHT BY JAR PAR']\n",
        "\n",
        "\n",
        "temp = [capitalizer(string) for string in remove_periods]\n",
        "print(temp)\n",
        "\n",
        "\n",
        "def replace_letters_with_X(string: str) -> str:\n",
        "    return re.sub(r\"[a-zA-Z]\", \"X\", string)\n",
        "\n",
        "\n",
        "data = [replace_letters_with_X(string) for string in remove_periods]\n",
        "print(data)\n"
      ],
      "metadata": {
        "colab": {
          "base_uri": "https://localhost:8080/"
        },
        "id": "12izx3Cf_yVL",
        "outputId": "e54eee00-4463-47b1-d3b3-61ba251daf96"
      },
      "execution_count": 15,
      "outputs": [
        {
          "output_type": "stream",
          "name": "stdout",
          "text": [
            "공백 제거 >>  ['Interrobang. By Aishwarya Henriette', 'Parking and going. By Kear Gua', 'Today Is the night. By Jar par']\n",
            "마침표 제거 >>  ['Interrobang By Aishwarya Henriette', 'Parking and going By Kear Gua', 'Today Is the night By Jar par']\n",
            "['INTERROBANG BY AISHWARYA HENRIETTE', 'PARKING AND GOING BY KEAR GUA', 'TODAY IS THE NIGHT BY JAR PAR']\n",
            "['XXXXXXXXXXX XX XXXXXXXXX XXXXXXXXX', 'XXXXXXX XXX XXXXX XX XXXX XXX', 'XXXXX XX XXX XXXXX XX XXX XXX']\n"
          ]
        }
      ]
    },
    {
      "cell_type": "code",
      "source": [],
      "metadata": {
        "id": "R3nLaUzY_4W3"
      },
      "execution_count": null,
      "outputs": []
    }
  ]
}