{
  "nbformat": 4,
  "nbformat_minor": 0,
  "metadata": {
    "colab": {
      "provenance": []
    },
    "kernelspec": {
      "name": "python3",
      "display_name": "Python 3"
    },
    "language_info": {
      "name": "python"
    }
  },
  "cells": [
    {
      "cell_type": "code",
      "source": [
        "!pip install koreanize-matplotlib\n",
        "import koreanize_matplotlib"
      ],
      "metadata": {
        "colab": {
          "base_uri": "https://localhost:8080/"
        },
        "id": "Rv4uac_PDmLD",
        "outputId": "8686dc7c-45dd-44b1-8be5-7e827e99de43"
      },
      "execution_count": 12,
      "outputs": [
        {
          "output_type": "stream",
          "name": "stdout",
          "text": [
            "Looking in indexes: https://pypi.org/simple, https://us-python.pkg.dev/colab-wheels/public/simple/\n",
            "Collecting koreanize-matplotlib\n",
            "  Downloading koreanize_matplotlib-0.0.1-py3-none-any.whl (2.5 MB)\n",
            "\u001b[K     |████████████████████████████████| 2.5 MB 5.0 MB/s \n",
            "\u001b[?25hRequirement already satisfied: matplotlib in /usr/local/lib/python3.8/dist-packages (from koreanize-matplotlib) (3.2.2)\n",
            "Requirement already satisfied: pyparsing!=2.0.4,!=2.1.2,!=2.1.6,>=2.0.1 in /usr/local/lib/python3.8/dist-packages (from matplotlib->koreanize-matplotlib) (3.0.9)\n",
            "Requirement already satisfied: python-dateutil>=2.1 in /usr/local/lib/python3.8/dist-packages (from matplotlib->koreanize-matplotlib) (2.8.2)\n",
            "Requirement already satisfied: numpy>=1.11 in /usr/local/lib/python3.8/dist-packages (from matplotlib->koreanize-matplotlib) (1.21.6)\n",
            "Requirement already satisfied: kiwisolver>=1.0.1 in /usr/local/lib/python3.8/dist-packages (from matplotlib->koreanize-matplotlib) (1.4.4)\n",
            "Requirement already satisfied: cycler>=0.10 in /usr/local/lib/python3.8/dist-packages (from matplotlib->koreanize-matplotlib) (0.11.0)\n",
            "Requirement already satisfied: six>=1.5 in /usr/local/lib/python3.8/dist-packages (from python-dateutil>=2.1->matplotlib->koreanize-matplotlib) (1.15.0)\n",
            "Installing collected packages: koreanize-matplotlib\n",
            "Successfully installed koreanize-matplotlib-0.0.1\n"
          ]
        }
      ]
    },
    {
      "cell_type": "code",
      "execution_count": 2,
      "metadata": {
        "colab": {
          "base_uri": "https://localhost:8080/"
        },
        "id": "SJ2IW06Exk8b",
        "outputId": "59fdb59c-1db9-4c56-baa7-480750dbd335"
      },
      "outputs": [
        {
          "output_type": "stream",
          "name": "stdout",
          "text": [
            "'전력+사용량(용도별)_20221201091730.csv'   \u001b[0m\u001b[01;34msample_data\u001b[0m/\n"
          ]
        }
      ],
      "source": [
        "%ls"
      ]
    },
    {
      "cell_type": "code",
      "source": [
        "columns = '소계\t 소계\t 소계\t 소계\t 전철\t 수도\t 사업자용\t 순수서비스\t 소계\t 농립어업\t 광업\t 제조업\t 소계\t 소계\t 소계\t 소계\t 전철\t 수도\t 사업자용\t 순수서비스\t 소계\t 농립어업\t 광업\t 제조업\t 소계\t 소계\t 소계\t 소계\t 전철\t 수도\t 사업자용\t 순수서비스\t 소계\t 농립어업\t 광업\t 제조업'.split('\\t ')"
      ],
      "metadata": {
        "id": "pVaoRbK_DDJ1"
      },
      "execution_count": 3,
      "outputs": []
    },
    {
      "cell_type": "code",
      "source": [
        "import pandas as pd\n",
        "use_elec_pd = pd.read_csv('전력+사용량(용도별)_20221201091730.csv', header = [0,1,2,3])"
      ],
      "metadata": {
        "id": "yZmuTd08DHCS"
      },
      "execution_count": 5,
      "outputs": []
    },
    {
      "cell_type": "code",
      "source": [
        "columns = set([c[0] for idx, c in enumerate(use_elec_pd.columns) if idx>=3])\n",
        "columns"
      ],
      "metadata": {
        "colab": {
          "base_uri": "https://localhost:8080/"
        },
        "id": "GPgigwu1DJEU",
        "outputId": "a7255153-c044-4fb4-eca6-7809a434aa8c"
      },
      "execution_count": 6,
      "outputs": [
        {
          "output_type": "execute_result",
          "data": {
            "text/plain": [
              "{'2021. 10', '2021. 11', '2021. 12'}"
            ]
          },
          "metadata": {},
          "execution_count": 6
        }
      ]
    },
    {
      "cell_type": "code",
      "source": [
        "total_list = [use_elec_pd[i]['합계']['소계']['소계'][0] for i in columns]"
      ],
      "metadata": {
        "id": "KN51O1zyDPvf"
      },
      "execution_count": 7,
      "outputs": []
    },
    {
      "cell_type": "code",
      "source": [
        "total_list"
      ],
      "metadata": {
        "colab": {
          "base_uri": "https://localhost:8080/"
        },
        "id": "hBmxIIAhDQ4R",
        "outputId": "e9b76505-a6c5-4da2-caa1-7534eea38247"
      },
      "execution_count": 8,
      "outputs": [
        {
          "output_type": "execute_result",
          "data": {
            "text/plain": [
              "[3963700, 3578614, 3537141]"
            ]
          },
          "metadata": {},
          "execution_count": 8
        }
      ]
    },
    {
      "cell_type": "code",
      "source": [
        "from collections import defaultdict\n",
        "kind_elect = defaultdict(list)\n",
        "total = []\n",
        "index = []\n",
        "for date in columns:\n",
        "  index.append(date)\n",
        "  total.append(use_elec_pd[date]['합계']['소계']['소계'][0])\n",
        "  sec_columns = use_elec_pd[date]['합계'].columns\n",
        "  sec_columns = set([value[0] for idx,value in enumerate(sec_columns) if value!='소계'])\n",
        "  # print(sec_columns)\n",
        "  \n",
        "  for kind in sec_columns:\n",
        "    if kind != '소계':\n",
        "      kind_elect[kind].append(use_elec_pd[date]['합계'][kind]['소계'][0])"
      ],
      "metadata": {
        "id": "4eOnfszbDSOy"
      },
      "execution_count": 9,
      "outputs": []
    },
    {
      "cell_type": "code",
      "source": [
        "index, total, kind_elect"
      ],
      "metadata": {
        "colab": {
          "base_uri": "https://localhost:8080/"
        },
        "id": "gXCARhyCDTO9",
        "outputId": "7b4c9299-0b41-4370-bc57-276f7d674a3e"
      },
      "execution_count": 10,
      "outputs": [
        {
          "output_type": "execute_result",
          "data": {
            "text/plain": [
              "(['2021. 12', '2021. 10', '2021. 11'],\n",
              " [3963700, 3578614, 3537141],\n",
              " defaultdict(list,\n",
              "             {'서비스업': [2352648, 2107191, 2050450],\n",
              "              '공공용': [336239, 254397, 270336],\n",
              "              '산업용': [128338, 110820, 115192],\n",
              "              '가정용': [1146475, 1106205, 1101163]}))"
            ]
          },
          "metadata": {},
          "execution_count": 10
        }
      ]
    },
    {
      "cell_type": "code",
      "source": [
        "import matplotlib.pyplot as plt\n",
        "plt.plot(total, label='total')\n",
        "for key, value in kind_elect.items():\n",
        "  plt.plot(value, label=key)\n",
        "plt.legend()\n",
        "plt.show()"
      ],
      "metadata": {
        "colab": {
          "base_uri": "https://localhost:8080/",
          "height": 274
        },
        "id": "MF8-X4HqDUZd",
        "outputId": "5c32484d-ad91-45bb-b1e8-94eb3c642261"
      },
      "execution_count": 13,
      "outputs": [
        {
          "output_type": "display_data",
          "data": {
            "text/plain": [
              "<Figure size 432x288 with 1 Axes>"
            ],
            "image/png": "[encoded data removed]"
          },
          "metadata": {
            "needs_background": "light"
          }
        }
      ]
    },
    {
      "cell_type": "code",
      "source": [],
      "metadata": {
        "id": "BFTRIIKVDt_U"
      },
      "execution_count": null,
      "outputs": []
    }
  ]
}