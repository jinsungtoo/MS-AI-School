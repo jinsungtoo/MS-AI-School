{
  "nbformat": 4,
  "nbformat_minor": 0,
  "metadata": {
    "colab": {
      "provenance": []
    },
    "kernelspec": {
      "name": "python3",
      "display_name": "Python 3"
    },
    "language_info": {
      "name": "python"
    }
  },
  "cells": [
    {
      "cell_type": "markdown",
      "source": [
        "# 공분산과 상관계수"
      ],
      "metadata": {
        "id": "bEwVpD9fEi80"
      }
    },
    {
      "cell_type": "markdown",
      "source": [
        "## 표본공분산\n",
        "\n",
        "$${s_xy}=\\frac{1}{N}\\Sigma({x_i}-\\hat{x})({y_i}-\\hat{y})$$"
      ],
      "metadata": {
        "id": "E1uQ0sGbEmFl"
      }
    },
    {
      "cell_type": "markdown",
      "source": [
        "## 표본상관계수(Sample correlation coefficient)\n",
        "\n",
        "공분산에 각각의 표준편차 값으로 나눈 값   \n",
        "각각의 표준편차를 나눠 주는 이유 자료 분포의 방향성만 분리해서 보기 위함과 표준화를 하기 위함\n",
        "\n",
        "$${r_xy} = \\frac{{s_xy}}{({s_x^2}{x_y^2})^{1/2}}$$"
      ],
      "metadata": {
        "id": "FhSUsRF5WeIo"
      }
    },
    {
      "cell_type": "code",
      "execution_count": 19,
      "metadata": {
        "colab": {
          "base_uri": "https://localhost:8080/"
        },
        "id": "n7MT1EWOEZGP",
        "outputId": "c9465672-a503-4f8b-b8d1-d8d151095c76"
      },
      "outputs": [
        {
          "output_type": "stream",
          "name": "stdout",
          "text": [
            "Looking in indexes: https://pypi.org/simple, https://us-python.pkg.dev/colab-wheels/public/simple/\n",
            "Requirement already satisfied: scikit-learn in /usr/local/lib/python3.7/dist-packages (1.0.2)\n",
            "Requirement already satisfied: joblib>=0.11 in /usr/local/lib/python3.7/dist-packages (from scikit-learn) (1.2.0)\n",
            "Requirement already satisfied: numpy>=1.14.6 in /usr/local/lib/python3.7/dist-packages (from scikit-learn) (1.21.6)\n",
            "Requirement already satisfied: threadpoolctl>=2.0.0 in /usr/local/lib/python3.7/dist-packages (from scikit-learn) (3.1.0)\n",
            "Requirement already satisfied: scipy>=1.1.0 in /usr/local/lib/python3.7/dist-packages (from scikit-learn) (1.7.3)\n"
          ]
        }
      ],
      "source": [
        "!pip install scikit-learn"
      ]
    },
    {
      "cell_type": "code",
      "source": [
        "!pip install koreanize-matplotlib"
      ],
      "metadata": {
        "colab": {
          "base_uri": "https://localhost:8080/"
        },
        "id": "F8nfW1C2UIiX",
        "outputId": "01925823-56d5-4e92-f236-6b57a9e9d670"
      },
      "execution_count": 20,
      "outputs": [
        {
          "output_type": "stream",
          "name": "stdout",
          "text": [
            "Looking in indexes: https://pypi.org/simple, https://us-python.pkg.dev/colab-wheels/public/simple/\n",
            "Requirement already satisfied: koreanize-matplotlib in /usr/local/lib/python3.7/dist-packages (0.0.1)\n",
            "Requirement already satisfied: matplotlib in /usr/local/lib/python3.7/dist-packages (from koreanize-matplotlib) (3.2.2)\n",
            "Requirement already satisfied: python-dateutil>=2.1 in /usr/local/lib/python3.7/dist-packages (from matplotlib->koreanize-matplotlib) (2.8.2)\n",
            "Requirement already satisfied: pyparsing!=2.0.4,!=2.1.2,!=2.1.6,>=2.0.1 in /usr/local/lib/python3.7/dist-packages (from matplotlib->koreanize-matplotlib) (3.0.9)\n",
            "Requirement already satisfied: cycler>=0.10 in /usr/local/lib/python3.7/dist-packages (from matplotlib->koreanize-matplotlib) (0.11.0)\n",
            "Requirement already satisfied: numpy>=1.11 in /usr/local/lib/python3.7/dist-packages (from matplotlib->koreanize-matplotlib) (1.21.6)\n",
            "Requirement already satisfied: kiwisolver>=1.0.1 in /usr/local/lib/python3.7/dist-packages (from matplotlib->koreanize-matplotlib) (1.4.4)\n",
            "Requirement already satisfied: typing-extensions in /usr/local/lib/python3.7/dist-packages (from kiwisolver>=1.0.1->matplotlib->koreanize-matplotlib) (4.1.1)\n",
            "Requirement already satisfied: six>=1.5 in /usr/local/lib/python3.7/dist-packages (from python-dateutil>=2.1->matplotlib->koreanize-matplotlib) (1.15.0)\n"
          ]
        }
      ]
    },
    {
      "cell_type": "code",
      "source": [
        "from sklearn.datasets import load_iris\n",
        "import scipy as sp\n",
        "import numpy as np\n",
        "import matplotlib.pyplot as plt\n",
        "import koreanize_matplotlib\n",
        "import statsmodels.api as sm\n",
        "import seaborn as sns"
      ],
      "metadata": {
        "id": "XZm5UxG0H956"
      },
      "execution_count": 32,
      "outputs": []
    },
    {
      "cell_type": "code",
      "source": [
        "X = load_iris()\n",
        "load_iris().keys()"
      ],
      "metadata": {
        "colab": {
          "base_uri": "https://localhost:8080/"
        },
        "id": "PUUBulrEIoAT",
        "outputId": "2b4e1e12-2d1d-4a66-d518-aedb6ed42f88"
      },
      "execution_count": 22,
      "outputs": [
        {
          "output_type": "execute_result",
          "data": {
            "text/plain": [
              "dict_keys(['data', 'target', 'frame', 'target_names', 'DESCR', 'feature_names', 'filename', 'data_module'])"
            ]
          },
          "metadata": {},
          "execution_count": 22
        }
      ]
    },
    {
      "cell_type": "code",
      "source": [
        "load_iris().feature_names"
      ],
      "metadata": {
        "colab": {
          "base_uri": "https://localhost:8080/"
        },
        "id": "SBodDgMXIqIE",
        "outputId": "6ea7a786-b567-4d22-a13d-e74e6a7871a2"
      },
      "execution_count": 23,
      "outputs": [
        {
          "output_type": "execute_result",
          "data": {
            "text/plain": [
              "['sepal length (cm)',\n",
              " 'sepal width (cm)',\n",
              " 'petal length (cm)',\n",
              " 'petal width (cm)']"
            ]
          },
          "metadata": {},
          "execution_count": 23
        }
      ]
    },
    {
      "cell_type": "code",
      "source": [
        "# X.data는 iris의 데이터 밸류값이 정리되어 있음,\n",
        "# X.feature_names 에 각각의 컬럼 이름이 정의되 있음\n",
        "# X.feature의 순서에 따라서 해당되는 데이터를 가져오는 코드\n",
        "sepal_length = X.data[:,0]\n",
        "sepal_width = X.data[:,1]\n",
        "petal_length = X.data[:,2]\n",
        "petal_width = X.data[:,3]\n",
        "sp.stats.pearsonr(sepal_length, petal_length)[0]"
      ],
      "metadata": {
        "colab": {
          "base_uri": "https://localhost:8080/"
        },
        "id": "vsihBTkPIssC",
        "outputId": "2e352ea5-b5e0-490c-8f6c-24fbfbfc95b7"
      },
      "execution_count": 24,
      "outputs": [
        {
          "output_type": "execute_result",
          "data": {
            "text/plain": [
              "0.8717537758865831"
            ]
          },
          "metadata": {},
          "execution_count": 24
        }
      ]
    },
    {
      "cell_type": "code",
      "source": [
        "np_array = np.random.rand(5,7)\n",
        "print(np_array)\n",
        "np_array[:, 0]"
      ],
      "metadata": {
        "colab": {
          "base_uri": "https://localhost:8080/"
        },
        "id": "1e4iijLDIweK",
        "outputId": "72568b27-d794-45a6-c0c7-c50ef44442aa"
      },
      "execution_count": 25,
      "outputs": [
        {
          "output_type": "stream",
          "name": "stdout",
          "text": [
            "[[4.17022005e-01 7.20324493e-01 1.14374817e-04 3.02332573e-01\n",
            "  1.46755891e-01 9.23385948e-02 1.86260211e-01]\n",
            " [3.45560727e-01 3.96767474e-01 5.38816734e-01 4.19194514e-01\n",
            "  6.85219500e-01 2.04452250e-01 8.78117436e-01]\n",
            " [2.73875932e-02 6.70467510e-01 4.17304802e-01 5.58689828e-01\n",
            "  1.40386939e-01 1.98101489e-01 8.00744569e-01]\n",
            " [9.68261576e-01 3.13424178e-01 6.92322616e-01 8.76389152e-01\n",
            "  8.94606664e-01 8.50442114e-02 3.90547832e-02]\n",
            " [1.69830420e-01 8.78142503e-01 9.83468338e-02 4.21107625e-01\n",
            "  9.57889530e-01 5.33165285e-01 6.91877114e-01]]\n"
          ]
        },
        {
          "output_type": "execute_result",
          "data": {
            "text/plain": [
              "array([0.417022  , 0.34556073, 0.02738759, 0.96826158, 0.16983042])"
            ]
          },
          "metadata": {},
          "execution_count": 25
        }
      ]
    },
    {
      "cell_type": "markdown",
      "source": [
        "## 상관계수 Scatter Plot\n"
      ],
      "metadata": {
        "id": "PM25lg6_Py5H"
      }
    },
    {
      "cell_type": "markdown",
      "source": [
        "피어슨 상관계수의 경우 선형적인 관계만을 측정하기 때문에 선형적이 않으면서 관계가 있는 데이터의 경우에 피어슨 상관계수는 0"
      ],
      "metadata": {
        "id": "_lwYlMOUS3DP"
      }
    },
    {
      "cell_type": "code",
      "source": [
        "np.random.seed(0)\n",
        "corrs = [1, 0.7, 0.3, 0, -0.3, -0.7, -1]\n",
        "plt.figure(figsize=(len(corrs) , 2))\n",
        "for i, r in enumerate(corrs):\n",
        "  x, y, = np.random.multivariate_normal([0,0], [[1, r],[r, 1]], 1000).T\n",
        "  plt.subplot(1, len(corrs), i + 1)\n",
        "  plt.plot(x,y, 'ro', ms=1)\n",
        "  plt.axis('equal')\n",
        "  plt.xticks([])\n",
        "  plt.yticks([])\n",
        "  plt.title(f'corr : {r}')\n",
        "\n",
        "plt.suptitle('상관계수와 산점도 그래프의 모양', y=1.1)\n",
        "plt.tight_layout()\n",
        "plt.show()\n"
      ],
      "metadata": {
        "colab": {
          "base_uri": "https://localhost:8080/",
          "height": 179
        },
        "id": "9gKc0kisL3GE",
        "outputId": "55a3eb44-0347-4ae8-8855-e7d995b4db20"
      },
      "execution_count": 26,
      "outputs": [
        {
          "output_type": "display_data",
          "data": {
            "text/plain": [
              "<Figure size 504x144 with 7 Axes>"
            ],
            "image/png": "[encoded data removed]"
          },
          "metadata": {}
        }
      ]
    },
    {
      "cell_type": "code",
      "source": [
        "# 랜덤 요소 제거\n",
        "np.random.seed(1)\n",
        "# 기울기 설정\n",
        "slops = [1, 0.7, 0.3, 0, -0.3, -0.7, -1]\n",
        "# 그래프 설정\n",
        "plt.figure(figsize=(len(slops),2))\n",
        "for i, s in enumerate(slops):\n",
        "  # 서브플롯 배경 그리기\n",
        "  plt.subplot(1, len(slops), i + 1)\n",
        "  # 다변수 표준정규분포\n",
        "  x, y = np.random.multivariate_normal([0,0], [[1,1], [1,1]], 100).T\n",
        "  # 기울기변경\n",
        "  y2 = s * y\n",
        "  # 데이터 플롯 그리기\n",
        "  plt.plot(x, y2, 'ro', ms=1)\n",
        "  # y값과 x값의 범위를 맞춰줌\n",
        "  plt.axis('equal')\n",
        "  # 특정된 x나 y값을 표현하는건데 지금은 아무것도 표현하지 않도록 설정\n",
        "  # 만약 아무것도 안주면 자동으로 생성하기 때문에 [] 인자 전달\n",
        "  plt.xticks([])\n",
        "  plt.yticks([])\n",
        "  if s > 0:\n",
        "    # 서브플롯의 제목\n",
        "    plt.title('corr=1')\n",
        "  elif s < 0:\n",
        "    plt.title('corr=-1')\n",
        "# 플롯의 대제목\n",
        "plt.suptitle('상관계수와 기울기의 관계', y=1.1)\n",
        "# 축의 글자가 겹치지 않도록 layout 설정\n",
        "plt.tight_layout()\n",
        "# 그래프 show\n",
        "plt.show()\n"
      ],
      "metadata": {
        "colab": {
          "base_uri": "https://localhost:8080/",
          "height": 179
        },
        "id": "KijF9BRIP1Sx",
        "outputId": "93b50d6e-4558-403e-bdce-8bd8e271be2a"
      },
      "execution_count": 28,
      "outputs": [
        {
          "output_type": "display_data",
          "data": {
            "text/plain": [
              "<Figure size 504x144 with 7 Axes>"
            ],
            "image/png": "[encoded data removed]"
          },
          "metadata": {}
        }
      ]
    },
    {
      "cell_type": "code",
      "source": [
        "n = 500\n",
        "np.random.seed(2)\n",
        "\n",
        "plt.subplot(221)\n",
        "x1 = np.random.uniform(-1, 1, n)\n",
        "y1 = 2*x1**2 + np.random.uniform(-0.1, 0.1,n)\n",
        "plt.scatter(x1,y1)\n",
        "r1 = sp.stats.pearsonr(x1, y1)[0]\n",
        "plt.title(f'비선형 상관관계 : 1: r= {r1.round(3)}')\n",
        "\n",
        "plt.subplot(222)\n",
        "x2 = np.random.uniform(-1,1, n)\n",
        "y2 = 4 * (x2**2-0.5)**2 + 0.1 * np.random.uniform(-0.1, 0.1,n)\n",
        "plt.scatter(x2,y2)\n",
        "r2 = sp.stats.pearsonr(x2, y2)[0]\n",
        "plt.title(f'비선형 상관관계 2:r={r2.round(3)}')\n",
        "\n",
        "plt.subplot(223)\n",
        "x3 = np.random.uniform(-1,1, n)\n",
        "y3 = np.cos(x3 * np.pi) + np.random.uniform(0, 1/8, n)\n",
        "x3 = np.sin(x3 * np.pi) + np.random.uniform(0, 1/8, n)\n",
        "plt.scatter(x3, y3)\n",
        "r3 = sp.stats.pearsonr(x3, y3)[0]\n",
        "plt.title(f'비선형 상관관계 3 : r={r3.round(3)}')\n",
        "plt.tight_layout()\n",
        "plt.show()"
      ],
      "metadata": {
        "colab": {
          "base_uri": "https://localhost:8080/",
          "height": 297
        },
        "id": "wJ3ifuEpWVPC",
        "outputId": "b75a6bbd-74cf-46c8-b0bc-a408582d3572"
      },
      "execution_count": 30,
      "outputs": [
        {
          "output_type": "display_data",
          "data": {
            "text/plain": [
              "<Figure size 432x288 with 3 Axes>"
            ],
            "image/png": "[encoded data removed]"
          },
          "metadata": {
            "needs_background": "light"
          }
        }
      ]
    },
    {
      "cell_type": "markdown",
      "source": [
        "#### 데이터 분포에 따른 유의점"
      ],
      "metadata": {
        "id": "rtM6lVe9ql5E"
      }
    },
    {
      "cell_type": "code",
      "source": [
        "data = sm.datasets.get_rdataset('anscombe')"
      ],
      "metadata": {
        "id": "yFWhhuaNXa6H"
      },
      "execution_count": 33,
      "outputs": []
    },
    {
      "cell_type": "code",
      "source": [
        "df = data.data\n",
        "df[['x1','y1','x2','y2','x3','y3','x4','y4']]"
      ],
      "metadata": {
        "colab": {
          "base_uri": "https://localhost:8080/",
          "height": 394
        },
        "id": "ZWgfSAx4qoss",
        "outputId": "f6ba1548-b98c-4dbf-80cb-ef9f9307c7d3"
      },
      "execution_count": 34,
      "outputs": [
        {
          "output_type": "execute_result",
          "data": {
            "text/plain": [
              "    x1     y1  x2    y2  x3     y3  x4     y4\n",
              "0   10   8.04  10  9.14  10   7.46   8   6.58\n",
              "1    8   6.95   8  8.14   8   6.77   8   5.76\n",
              "2   13   7.58  13  8.74  13  12.74   8   7.71\n",
              "3    9   8.81   9  8.77   9   7.11   8   8.84\n",
              "4   11   8.33  11  9.26  11   7.81   8   8.47\n",
              "5   14   9.96  14  8.10  14   8.84   8   7.04\n",
              "6    6   7.24   6  6.13   6   6.08   8   5.25\n",
              "7    4   4.26   4  3.10   4   5.39  19  12.50\n",
              "8   12  10.84  12  9.13  12   8.15   8   5.56\n",
              "9    7   4.82   7  7.26   7   6.42   8   7.91\n",
              "10   5   5.68   5  4.74   5   5.73   8   6.89"
            ],
            "text/html": [
              "\n",
              "  <div id=\"df-a975d1f2-5cf2-47b2-8a2e-5b610ad37671\">\n",
              "    <div class=\"colab-df-container\">\n",
              "      <div>\n",
              "<style scoped>\n",
              "    .dataframe tbody tr th:only-of-type {\n",
              "        vertical-align: middle;\n",
              "    }\n",
              "\n",
              "    .dataframe tbody tr th {\n",
              "        vertical-align: top;\n",
              "    }\n",
              "\n",
              "    .dataframe thead th {\n",
              "        text-align: right;\n",
              "    }\n",
              "</style>\n",
              "<table border=\"1\" class=\"dataframe\">\n",
              "  <thead>\n",
              "    <tr style=\"text-align: right;\">\n",
              "      <th></th>\n",
              "      <th>x1</th>\n",
              "      <th>y1</th>\n",
              "      <th>x2</th>\n",
              "      <th>y2</th>\n",
              "      <th>x3</th>\n",
              "      <th>y3</th>\n",
              "      <th>x4</th>\n",
              "      <th>y4</th>\n",
              "    </tr>\n",
              "  </thead>\n",
              "  <tbody>\n",
              "    <tr>\n",
              "      <th>0</th>\n",
              "      <td>10</td>\n",
              "      <td>8.04</td>\n",
              "      <td>10</td>\n",
              "      <td>9.14</td>\n",
              "      <td>10</td>\n",
              "      <td>7.46</td>\n",
              "      <td>8</td>\n",
              "      <td>6.58</td>\n",
              "    </tr>\n",
              "    <tr>\n",
              "      <th>1</th>\n",
              "      <td>8</td>\n",
              "      <td>6.95</td>\n",
              "      <td>8</td>\n",
              "      <td>8.14</td>\n",
              "      <td>8</td>\n",
              "      <td>6.77</td>\n",
              "      <td>8</td>\n",
              "      <td>5.76</td>\n",
              "    </tr>\n",
              "    <tr>\n",
              "      <th>2</th>\n",
              "      <td>13</td>\n",
              "      <td>7.58</td>\n",
              "      <td>13</td>\n",
              "      <td>8.74</td>\n",
              "      <td>13</td>\n",
              "      <td>12.74</td>\n",
              "      <td>8</td>\n",
              "      <td>7.71</td>\n",
              "    </tr>\n",
              "    <tr>\n",
              "      <th>3</th>\n",
              "      <td>9</td>\n",
              "      <td>8.81</td>\n",
              "      <td>9</td>\n",
              "      <td>8.77</td>\n",
              "      <td>9</td>\n",
              "      <td>7.11</td>\n",
              "      <td>8</td>\n",
              "      <td>8.84</td>\n",
              "    </tr>\n",
              "    <tr>\n",
              "      <th>4</th>\n",
              "      <td>11</td>\n",
              "      <td>8.33</td>\n",
              "      <td>11</td>\n",
              "      <td>9.26</td>\n",
              "      <td>11</td>\n",
              "      <td>7.81</td>\n",
              "      <td>8</td>\n",
              "      <td>8.47</td>\n",
              "    </tr>\n",
              "    <tr>\n",
              "      <th>5</th>\n",
              "      <td>14</td>\n",
              "      <td>9.96</td>\n",
              "      <td>14</td>\n",
              "      <td>8.10</td>\n",
              "      <td>14</td>\n",
              "      <td>8.84</td>\n",
              "      <td>8</td>\n",
              "      <td>7.04</td>\n",
              "    </tr>\n",
              "    <tr>\n",
              "      <th>6</th>\n",
              "      <td>6</td>\n",
              "      <td>7.24</td>\n",
              "      <td>6</td>\n",
              "      <td>6.13</td>\n",
              "      <td>6</td>\n",
              "      <td>6.08</td>\n",
              "      <td>8</td>\n",
              "      <td>5.25</td>\n",
              "    </tr>\n",
              "    <tr>\n",
              "      <th>7</th>\n",
              "      <td>4</td>\n",
              "      <td>4.26</td>\n",
              "      <td>4</td>\n",
              "      <td>3.10</td>\n",
              "      <td>4</td>\n",
              "      <td>5.39</td>\n",
              "      <td>19</td>\n",
              "      <td>12.50</td>\n",
              "    </tr>\n",
              "    <tr>\n",
              "      <th>8</th>\n",
              "      <td>12</td>\n",
              "      <td>10.84</td>\n",
              "      <td>12</td>\n",
              "      <td>9.13</td>\n",
              "      <td>12</td>\n",
              "      <td>8.15</td>\n",
              "      <td>8</td>\n",
              "      <td>5.56</td>\n",
              "    </tr>\n",
              "    <tr>\n",
              "      <th>9</th>\n",
              "      <td>7</td>\n",
              "      <td>4.82</td>\n",
              "      <td>7</td>\n",
              "      <td>7.26</td>\n",
              "      <td>7</td>\n",
              "      <td>6.42</td>\n",
              "      <td>8</td>\n",
              "      <td>7.91</td>\n",
              "    </tr>\n",
              "    <tr>\n",
              "      <th>10</th>\n",
              "      <td>5</td>\n",
              "      <td>5.68</td>\n",
              "      <td>5</td>\n",
              "      <td>4.74</td>\n",
              "      <td>5</td>\n",
              "      <td>5.73</td>\n",
              "      <td>8</td>\n",
              "      <td>6.89</td>\n",
              "    </tr>\n",
              "  </tbody>\n",
              "</table>\n",
              "</div>\n",
              "      <button class=\"colab-df-convert\" onclick=\"convertToInteractive('df-a975d1f2-5cf2-47b2-8a2e-5b610ad37671')\"\n",
              "              title=\"Convert this dataframe to an interactive table.\"\n",
              "              style=\"display:none;\">\n",
              "        \n",
              "  <svg xmlns=\"http://www.w3.org/2000/svg\" height=\"24px\"viewBox=\"0 0 24 24\"\n",
              "       width=\"24px\">\n",
              "    <path d=\"M0 0h24v24H0V0z\" fill=\"none\"/>\n",
              "    <path d=\"M18.56 5.44l.94 2.06.94-2.06 2.06-.94-2.06-.94-.94-2.06-.94 2.06-2.06.94zm-11 1L8.5 8.5l.94-2.06 2.06-.94-2.06-.94L8.5 2.5l-.94 2.06-2.06.94zm10 10l.94 2.06.94-2.06 2.06-.94-2.06-.94-.94-2.06-.94 2.06-2.06.94z\"/><path d=\"M17.41 7.96l-1.37-1.37c-.4-.4-.92-.59-1.43-.59-.52 0-1.04.2-1.43.59L10.3 9.45l-7.72 7.72c-.78.78-.78 2.05 0 2.83L4 21.41c.39.39.9.59 1.41.59.51 0 1.02-.2 1.41-.59l7.78-7.78 2.81-2.81c.8-.78.8-2.07 0-2.86zM5.41 20L4 18.59l7.72-7.72 1.47 1.35L5.41 20z\"/>\n",
              "  </svg>\n",
              "      </button>\n",
              "      \n",
              "  <style>\n",
              "    .colab-df-container {\n",
              "      display:flex;\n",
              "      flex-wrap:wrap;\n",
              "      gap: 12px;\n",
              "    }\n",
              "\n",
              "    .colab-df-convert {\n",
              "      background-color: #E8F0FE;\n",
              "      border: none;\n",
              "      border-radius: 50%;\n",
              "      cursor: pointer;\n",
              "      display: none;\n",
              "      fill: #1967D2;\n",
              "      height: 32px;\n",
              "      padding: 0 0 0 0;\n",
              "      width: 32px;\n",
              "    }\n",
              "\n",
              "    .colab-df-convert:hover {\n",
              "      background-color: #E2EBFA;\n",
              "      box-shadow: 0px 1px 2px rgba(60, 64, 67, 0.3), 0px 1px 3px 1px rgba(60, 64, 67, 0.15);\n",
              "      fill: #174EA6;\n",
              "    }\n",
              "\n",
              "    [theme=dark] .colab-df-convert {\n",
              "      background-color: #3B4455;\n",
              "      fill: #D2E3FC;\n",
              "    }\n",
              "\n",
              "    [theme=dark] .colab-df-convert:hover {\n",
              "      background-color: #434B5C;\n",
              "      box-shadow: 0px 1px 3px 1px rgba(0, 0, 0, 0.15);\n",
              "      filter: drop-shadow(0px 1px 2px rgba(0, 0, 0, 0.3));\n",
              "      fill: #FFFFFF;\n",
              "    }\n",
              "  </style>\n",
              "\n",
              "      <script>\n",
              "        const buttonEl =\n",
              "          document.querySelector('#df-a975d1f2-5cf2-47b2-8a2e-5b610ad37671 button.colab-df-convert');\n",
              "        buttonEl.style.display =\n",
              "          google.colab.kernel.accessAllowed ? 'block' : 'none';\n",
              "\n",
              "        async function convertToInteractive(key) {\n",
              "          const element = document.querySelector('#df-a975d1f2-5cf2-47b2-8a2e-5b610ad37671');\n",
              "          const dataTable =\n",
              "            await google.colab.kernel.invokeFunction('convertToInteractive',\n",
              "                                                     [key], {});\n",
              "          if (!dataTable) return;\n",
              "\n",
              "          const docLinkHtml = 'Like what you see? Visit the ' +\n",
              "            '<a target=\"_blank\" href=https://colab.research.google.com/notebooks/data_table.ipynb>data table notebook</a>'\n",
              "            + ' to learn more about interactive tables.';\n",
              "          element.innerHTML = '';\n",
              "          dataTable['output_type'] = 'display_data';\n",
              "          await google.colab.output.renderOutput(dataTable, element);\n",
              "          const docLink = document.createElement('div');\n",
              "          docLink.innerHTML = docLinkHtml;\n",
              "          element.appendChild(docLink);\n",
              "        }\n",
              "      </script>\n",
              "    </div>\n",
              "  </div>\n",
              "  "
            ]
          },
          "metadata": {},
          "execution_count": 34
        }
      ]
    },
    {
      "cell_type": "code",
      "source": [
        "plt.subplot(221)\n",
        "sns.regplot(x = 'x1', y = 'y1', data=df)\n",
        "plt.subplot(222)\n",
        "sns.regplot(x = 'x2', y = 'y2', data=df)\n",
        "plt.subplot(223)\n",
        "sns.regplot(x = 'x3', y = 'y3', data=df)\n",
        "plt.subplot(224)\n",
        "sns.regplot(x = 'x4', y = 'y4', data=df)\n",
        "plt.tight_layout()\n",
        "plt.subplots_adjust(top=0.9)\n",
        "plt.suptitle('anscomb data')\n",
        "plt.show()\n"
      ],
      "metadata": {
        "colab": {
          "base_uri": "https://localhost:8080/",
          "height": 302
        },
        "id": "lbafFA0qq8Zs",
        "outputId": "691f8f4c-e13f-4e86-9c64-869f6c0fcbc6"
      },
      "execution_count": 35,
      "outputs": [
        {
          "output_type": "display_data",
          "data": {
            "text/plain": [
              "<Figure size 432x288 with 4 Axes>"
            ],
            "image/png": "[encoded data removed]"
          },
          "metadata": {
            "needs_background": "light"
          }
        }
      ]
    },
    {
      "cell_type": "code",
      "source": [
        "for i in range(1,5):\n",
        "  print(f'x{i}, y{i} 의 상관계수', sp.stats.pearsonr(df[f'x{i}'], df[f'y{i}'])[0])"
      ],
      "metadata": {
        "colab": {
          "base_uri": "https://localhost:8080/"
        },
        "id": "DOtO-6Njq_Kk",
        "outputId": "ebebbf3f-3ca7-4de3-c5cd-0994ad3601f4"
      },
      "execution_count": 36,
      "outputs": [
        {
          "output_type": "stream",
          "name": "stdout",
          "text": [
            "x1, y1 의 상관계수 0.81642051634484\n",
            "x2, y2 의 상관계수 0.8162365060002427\n",
            "x3, y3 의 상관계수 0.8162867394895982\n",
            "x4, y4 의 상관계수 0.8165214368885029\n"
          ]
        }
      ]
    }
  ]
}