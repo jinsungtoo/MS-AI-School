{
 "cells": [
  {
   "cell_type": "code",
   "execution_count": 2,
   "id": "ad4b5087",
   "metadata": {},
   "outputs": [],
   "source": [
    "import pandas as pd"
   ]
  },
  {
   "cell_type": "code",
   "execution_count": 4,
   "id": "0e1adba4",
   "metadata": {},
   "outputs": [
    {
     "data": {
      "text/html": [
       "<div>\n",
       "<style scoped>\n",
       "    .dataframe tbody tr th:only-of-type {\n",
       "        vertical-align: middle;\n",
       "    }\n",
       "\n",
       "    .dataframe tbody tr th {\n",
       "        vertical-align: top;\n",
       "    }\n",
       "\n",
       "    .dataframe thead th {\n",
       "        text-align: right;\n",
       "    }\n",
       "</style>\n",
       "<table border=\"1\" class=\"dataframe\">\n",
       "  <thead>\n",
       "    <tr style=\"text-align: right;\">\n",
       "      <th></th>\n",
       "      <th>농지면적순위</th>\n",
       "      <th>2021</th>\n",
       "      <th>2020</th>\n",
       "      <th>2019</th>\n",
       "      <th>2018</th>\n",
       "    </tr>\n",
       "  </thead>\n",
       "  <tbody>\n",
       "    <tr>\n",
       "      <th>서울</th>\n",
       "      <td>NaN</td>\n",
       "      <td>1116</td>\n",
       "      <td>628</td>\n",
       "      <td>678</td>\n",
       "      <td>712</td>\n",
       "    </tr>\n",
       "    <tr>\n",
       "      <th>부산</th>\n",
       "      <td>NaN</td>\n",
       "      <td>12259</td>\n",
       "      <td>11075</td>\n",
       "      <td>12700</td>\n",
       "      <td>13597</td>\n",
       "    </tr>\n",
       "    <tr>\n",
       "      <th>대구</th>\n",
       "      <td>NaN</td>\n",
       "      <td>16699</td>\n",
       "      <td>15695</td>\n",
       "      <td>15148</td>\n",
       "      <td>16052</td>\n",
       "    </tr>\n",
       "    <tr>\n",
       "      <th>인천</th>\n",
       "      <td>NaN</td>\n",
       "      <td>65119</td>\n",
       "      <td>56013</td>\n",
       "      <td>55443</td>\n",
       "      <td>56024</td>\n",
       "    </tr>\n",
       "  </tbody>\n",
       "</table>\n",
       "</div>"
      ],
      "text/plain": [
       "   농지면적순위   2021   2020   2019   2018\n",
       "서울    NaN   1116    628    678    712\n",
       "부산    NaN  12259  11075  12700  13597\n",
       "대구    NaN  16699  15695  15148  16052\n",
       "인천    NaN  65119  56013  55443  56024"
      ]
     },
     "execution_count": 4,
     "metadata": {},
     "output_type": "execute_result"
    }
   ],
   "source": [
    "data = {\n",
    "'2021' : [1116, 12259, 16699, 65119],\n",
    "'2020' : [628, 11075, 15695, 56013],\n",
    "'2019' : [678,12700,15148,55443],\n",
    "'2018' : [712, 13597, 16052, 56024],\n",
    "'면적순위' : [4,3,2,1]\n",
    "}\n",
    "columns = ['농지면적순위', '2021', '2020', '2019', '2018']\n",
    "index = ['서울','부산','대구','인천']\n",
    "df = pd.DataFrame(data, index=index, columns=columns)\n",
    "df"
   ]
  },
  {
   "cell_type": "code",
   "execution_count": 5,
   "id": "01a9f1ab",
   "metadata": {},
   "outputs": [
    {
     "data": {
      "text/plain": [
       "Index(['농지면적순위', '2021', '2020', '2019', '2018'], dtype='object')"
      ]
     },
     "execution_count": 5,
     "metadata": {},
     "output_type": "execute_result"
    }
   ],
   "source": [
    "df.columns"
   ]
  },
  {
   "cell_type": "code",
   "execution_count": 6,
   "id": "719f9c20",
   "metadata": {},
   "outputs": [
    {
     "data": {
      "text/plain": [
       "Index(['서울', '부산', '대구', '인천'], dtype='object')"
      ]
     },
     "execution_count": 6,
     "metadata": {},
     "output_type": "execute_result"
    }
   ],
   "source": [
    "df.index"
   ]
  },
  {
   "cell_type": "code",
   "execution_count": 7,
   "id": "286a31a3",
   "metadata": {},
   "outputs": [],
   "source": [
    "df.index.name = '지역'"
   ]
  },
  {
   "cell_type": "code",
   "execution_count": 8,
   "id": "203c27bd",
   "metadata": {},
   "outputs": [
    {
     "data": {
      "text/html": [
       "<div>\n",
       "<style scoped>\n",
       "    .dataframe tbody tr th:only-of-type {\n",
       "        vertical-align: middle;\n",
       "    }\n",
       "\n",
       "    .dataframe tbody tr th {\n",
       "        vertical-align: top;\n",
       "    }\n",
       "\n",
       "    .dataframe thead th {\n",
       "        text-align: right;\n",
       "    }\n",
       "</style>\n",
       "<table border=\"1\" class=\"dataframe\">\n",
       "  <thead>\n",
       "    <tr style=\"text-align: right;\">\n",
       "      <th></th>\n",
       "      <th>농지면적순위</th>\n",
       "      <th>2021</th>\n",
       "      <th>2020</th>\n",
       "      <th>2019</th>\n",
       "      <th>2018</th>\n",
       "    </tr>\n",
       "    <tr>\n",
       "      <th>지역</th>\n",
       "      <th></th>\n",
       "      <th></th>\n",
       "      <th></th>\n",
       "      <th></th>\n",
       "      <th></th>\n",
       "    </tr>\n",
       "  </thead>\n",
       "  <tbody>\n",
       "    <tr>\n",
       "      <th>서울</th>\n",
       "      <td>NaN</td>\n",
       "      <td>1116</td>\n",
       "      <td>628</td>\n",
       "      <td>678</td>\n",
       "      <td>712</td>\n",
       "    </tr>\n",
       "    <tr>\n",
       "      <th>부산</th>\n",
       "      <td>NaN</td>\n",
       "      <td>12259</td>\n",
       "      <td>11075</td>\n",
       "      <td>12700</td>\n",
       "      <td>13597</td>\n",
       "    </tr>\n",
       "    <tr>\n",
       "      <th>대구</th>\n",
       "      <td>NaN</td>\n",
       "      <td>16699</td>\n",
       "      <td>15695</td>\n",
       "      <td>15148</td>\n",
       "      <td>16052</td>\n",
       "    </tr>\n",
       "    <tr>\n",
       "      <th>인천</th>\n",
       "      <td>NaN</td>\n",
       "      <td>65119</td>\n",
       "      <td>56013</td>\n",
       "      <td>55443</td>\n",
       "      <td>56024</td>\n",
       "    </tr>\n",
       "  </tbody>\n",
       "</table>\n",
       "</div>"
      ],
      "text/plain": [
       "   농지면적순위   2021   2020   2019   2018\n",
       "지역                                   \n",
       "서울    NaN   1116    628    678    712\n",
       "부산    NaN  12259  11075  12700  13597\n",
       "대구    NaN  16699  15695  15148  16052\n",
       "인천    NaN  65119  56013  55443  56024"
      ]
     },
     "execution_count": 8,
     "metadata": {},
     "output_type": "execute_result"
    }
   ],
   "source": [
    "df"
   ]
  },
  {
   "cell_type": "code",
   "execution_count": 9,
   "id": "2edda2a2",
   "metadata": {},
   "outputs": [],
   "source": [
    "df.columns.name = '특성'"
   ]
  },
  {
   "cell_type": "code",
   "execution_count": 10,
   "id": "bec0bac8",
   "metadata": {},
   "outputs": [
    {
     "data": {
      "text/html": [
       "<div>\n",
       "<style scoped>\n",
       "    .dataframe tbody tr th:only-of-type {\n",
       "        vertical-align: middle;\n",
       "    }\n",
       "\n",
       "    .dataframe tbody tr th {\n",
       "        vertical-align: top;\n",
       "    }\n",
       "\n",
       "    .dataframe thead th {\n",
       "        text-align: right;\n",
       "    }\n",
       "</style>\n",
       "<table border=\"1\" class=\"dataframe\">\n",
       "  <thead>\n",
       "    <tr style=\"text-align: right;\">\n",
       "      <th>특성</th>\n",
       "      <th>농지면적순위</th>\n",
       "      <th>2021</th>\n",
       "      <th>2020</th>\n",
       "      <th>2019</th>\n",
       "      <th>2018</th>\n",
       "    </tr>\n",
       "    <tr>\n",
       "      <th>지역</th>\n",
       "      <th></th>\n",
       "      <th></th>\n",
       "      <th></th>\n",
       "      <th></th>\n",
       "      <th></th>\n",
       "    </tr>\n",
       "  </thead>\n",
       "  <tbody>\n",
       "    <tr>\n",
       "      <th>서울</th>\n",
       "      <td>NaN</td>\n",
       "      <td>1116</td>\n",
       "      <td>628</td>\n",
       "      <td>678</td>\n",
       "      <td>712</td>\n",
       "    </tr>\n",
       "    <tr>\n",
       "      <th>부산</th>\n",
       "      <td>NaN</td>\n",
       "      <td>12259</td>\n",
       "      <td>11075</td>\n",
       "      <td>12700</td>\n",
       "      <td>13597</td>\n",
       "    </tr>\n",
       "    <tr>\n",
       "      <th>대구</th>\n",
       "      <td>NaN</td>\n",
       "      <td>16699</td>\n",
       "      <td>15695</td>\n",
       "      <td>15148</td>\n",
       "      <td>16052</td>\n",
       "    </tr>\n",
       "    <tr>\n",
       "      <th>인천</th>\n",
       "      <td>NaN</td>\n",
       "      <td>65119</td>\n",
       "      <td>56013</td>\n",
       "      <td>55443</td>\n",
       "      <td>56024</td>\n",
       "    </tr>\n",
       "  </tbody>\n",
       "</table>\n",
       "</div>"
      ],
      "text/plain": [
       "특성 농지면적순위   2021   2020   2019   2018\n",
       "지역                                   \n",
       "서울    NaN   1116    628    678    712\n",
       "부산    NaN  12259  11075  12700  13597\n",
       "대구    NaN  16699  15695  15148  16052\n",
       "인천    NaN  65119  56013  55443  56024"
      ]
     },
     "execution_count": 10,
     "metadata": {},
     "output_type": "execute_result"
    }
   ],
   "source": [
    "df"
   ]
  },
  {
   "cell_type": "code",
   "execution_count": 11,
   "id": "7b24a5e2",
   "metadata": {},
   "outputs": [
    {
     "data": {
      "text/plain": [
       "0    1\n",
       "1    2\n",
       "2    3\n",
       "3    4\n",
       "4    s\n",
       "dtype: object"
      ]
     },
     "execution_count": 11,
     "metadata": {},
     "output_type": "execute_result"
    }
   ],
   "source": [
    "pd.Series([1,2,3,4,'s'])"
   ]
  },
  {
   "cell_type": "code",
   "execution_count": 12,
   "id": "12e36465",
   "metadata": {},
   "outputs": [],
   "source": [
    "df['2018-2021 변화율'] = ((df['2021'] - df['2018'])/ df['2018'] * 100)"
   ]
  },
  {
   "cell_type": "code",
   "execution_count": 25,
   "id": "e3e5cbf8",
   "metadata": {},
   "outputs": [
    {
     "ename": "SyntaxError",
     "evalue": "invalid syntax (660188642.py, line 1)",
     "output_type": "error",
     "traceback": [
      "\u001b[1;36m  Input \u001b[1;32mIn [25]\u001b[1;36m\u001b[0m\n\u001b[1;33m    df = df[['2018','2019','2020','2021','농지면적순위','2018-2021 변화율'].astype=(int)]\u001b[0m\n\u001b[1;37m                                                                         ^\u001b[0m\n\u001b[1;31mSyntaxError\u001b[0m\u001b[1;31m:\u001b[0m invalid syntax\n"
     ]
    }
   ],
   "source": [
    "df = df[['2018','2019','2020','2021','농지면적순위','2018-2021 변화율'].astype=(int)]"
   ]
  },
  {
   "cell_type": "code",
   "execution_count": 16,
   "id": "1c2fb863",
   "metadata": {},
   "outputs": [
    {
     "data": {
      "text/html": [
       "<div>\n",
       "<style scoped>\n",
       "    .dataframe tbody tr th:only-of-type {\n",
       "        vertical-align: middle;\n",
       "    }\n",
       "\n",
       "    .dataframe tbody tr th {\n",
       "        vertical-align: top;\n",
       "    }\n",
       "\n",
       "    .dataframe thead th {\n",
       "        text-align: right;\n",
       "    }\n",
       "</style>\n",
       "<table border=\"1\" class=\"dataframe\">\n",
       "  <thead>\n",
       "    <tr style=\"text-align: right;\">\n",
       "      <th>특성</th>\n",
       "      <th>2018</th>\n",
       "      <th>2019</th>\n",
       "      <th>2020</th>\n",
       "      <th>2021</th>\n",
       "      <th>농지면적순위</th>\n",
       "      <th>2018-2021 변화율</th>\n",
       "    </tr>\n",
       "    <tr>\n",
       "      <th>지역</th>\n",
       "      <th></th>\n",
       "      <th></th>\n",
       "      <th></th>\n",
       "      <th></th>\n",
       "      <th></th>\n",
       "      <th></th>\n",
       "    </tr>\n",
       "  </thead>\n",
       "  <tbody>\n",
       "    <tr>\n",
       "      <th>서울</th>\n",
       "      <td>712</td>\n",
       "      <td>678</td>\n",
       "      <td>628</td>\n",
       "      <td>1116</td>\n",
       "      <td>NaN</td>\n",
       "      <td>56.741573</td>\n",
       "    </tr>\n",
       "    <tr>\n",
       "      <th>부산</th>\n",
       "      <td>13597</td>\n",
       "      <td>12700</td>\n",
       "      <td>11075</td>\n",
       "      <td>12259</td>\n",
       "      <td>NaN</td>\n",
       "      <td>-9.840406</td>\n",
       "    </tr>\n",
       "    <tr>\n",
       "      <th>대구</th>\n",
       "      <td>16052</td>\n",
       "      <td>15148</td>\n",
       "      <td>15695</td>\n",
       "      <td>16699</td>\n",
       "      <td>NaN</td>\n",
       "      <td>4.030650</td>\n",
       "    </tr>\n",
       "    <tr>\n",
       "      <th>인천</th>\n",
       "      <td>56024</td>\n",
       "      <td>55443</td>\n",
       "      <td>56013</td>\n",
       "      <td>65119</td>\n",
       "      <td>NaN</td>\n",
       "      <td>16.234114</td>\n",
       "    </tr>\n",
       "  </tbody>\n",
       "</table>\n",
       "</div>"
      ],
      "text/plain": [
       "특성   2018   2019   2020   2021 농지면적순위  2018-2021 변화율\n",
       "지역                                                  \n",
       "서울    712    678    628   1116    NaN      56.741573\n",
       "부산  13597  12700  11075  12259    NaN      -9.840406\n",
       "대구  16052  15148  15695  16699    NaN       4.030650\n",
       "인천  56024  55443  56013  65119    NaN      16.234114"
      ]
     },
     "execution_count": 16,
     "metadata": {},
     "output_type": "execute_result"
    }
   ],
   "source": [
    "df"
   ]
  },
  {
   "cell_type": "code",
   "execution_count": 17,
   "id": "34dc9092",
   "metadata": {},
   "outputs": [
    {
     "data": {
      "text/html": [
       "<div>\n",
       "<style scoped>\n",
       "    .dataframe tbody tr th:only-of-type {\n",
       "        vertical-align: middle;\n",
       "    }\n",
       "\n",
       "    .dataframe tbody tr th {\n",
       "        vertical-align: top;\n",
       "    }\n",
       "\n",
       "    .dataframe thead th {\n",
       "        text-align: right;\n",
       "    }\n",
       "</style>\n",
       "<table border=\"1\" class=\"dataframe\">\n",
       "  <thead>\n",
       "    <tr style=\"text-align: right;\">\n",
       "      <th>지역</th>\n",
       "      <th>서울</th>\n",
       "      <th>부산</th>\n",
       "      <th>대구</th>\n",
       "      <th>인천</th>\n",
       "    </tr>\n",
       "    <tr>\n",
       "      <th>특성</th>\n",
       "      <th></th>\n",
       "      <th></th>\n",
       "      <th></th>\n",
       "      <th></th>\n",
       "    </tr>\n",
       "  </thead>\n",
       "  <tbody>\n",
       "    <tr>\n",
       "      <th>2018</th>\n",
       "      <td>712</td>\n",
       "      <td>13597</td>\n",
       "      <td>16052</td>\n",
       "      <td>56024</td>\n",
       "    </tr>\n",
       "    <tr>\n",
       "      <th>2019</th>\n",
       "      <td>678</td>\n",
       "      <td>12700</td>\n",
       "      <td>15148</td>\n",
       "      <td>55443</td>\n",
       "    </tr>\n",
       "    <tr>\n",
       "      <th>2020</th>\n",
       "      <td>628</td>\n",
       "      <td>11075</td>\n",
       "      <td>15695</td>\n",
       "      <td>56013</td>\n",
       "    </tr>\n",
       "    <tr>\n",
       "      <th>2021</th>\n",
       "      <td>1116</td>\n",
       "      <td>12259</td>\n",
       "      <td>16699</td>\n",
       "      <td>65119</td>\n",
       "    </tr>\n",
       "    <tr>\n",
       "      <th>농지면적순위</th>\n",
       "      <td>NaN</td>\n",
       "      <td>NaN</td>\n",
       "      <td>NaN</td>\n",
       "      <td>NaN</td>\n",
       "    </tr>\n",
       "    <tr>\n",
       "      <th>2018-2021 변화율</th>\n",
       "      <td>56.741573</td>\n",
       "      <td>-9.840406</td>\n",
       "      <td>4.03065</td>\n",
       "      <td>16.234114</td>\n",
       "    </tr>\n",
       "  </tbody>\n",
       "</table>\n",
       "</div>"
      ],
      "text/plain": [
       "지역                    서울        부산       대구         인천\n",
       "특성                                                    \n",
       "2018                 712     13597    16052      56024\n",
       "2019                 678     12700    15148      55443\n",
       "2020                 628     11075    15695      56013\n",
       "2021                1116     12259    16699      65119\n",
       "농지면적순위               NaN       NaN      NaN        NaN\n",
       "2018-2021 변화율  56.741573 -9.840406  4.03065  16.234114"
      ]
     },
     "execution_count": 17,
     "metadata": {},
     "output_type": "execute_result"
    }
   ],
   "source": [
    "df.T"
   ]
  },
  {
   "cell_type": "code",
   "execution_count": null,
   "id": "c7df51df",
   "metadata": {},
   "outputs": [],
   "source": [
    "df['2018-2021 변화율'] = "
   ]
  },
  {
   "cell_type": "code",
   "execution_count": 20,
   "id": "2a9e40ee",
   "metadata": {},
   "outputs": [
    {
     "data": {
      "text/plain": [
       "712"
      ]
     },
     "execution_count": 20,
     "metadata": {},
     "output_type": "execute_result"
    }
   ],
   "source": [
    "df['2018']['서울']"
   ]
  },
  {
   "cell_type": "code",
   "execution_count": 21,
   "id": "ecac66de",
   "metadata": {},
   "outputs": [],
   "source": [
    "temp = pd.Series(['a','b','c','d','e'])"
   ]
  },
  {
   "cell_type": "code",
   "execution_count": 22,
   "id": "ee75b078",
   "metadata": {},
   "outputs": [
    {
     "data": {
      "text/plain": [
       "'a'"
      ]
     },
     "execution_count": 22,
     "metadata": {},
     "output_type": "execute_result"
    }
   ],
   "source": [
    "temp[0]"
   ]
  },
  {
   "cell_type": "code",
   "execution_count": 23,
   "id": "ee473de6",
   "metadata": {},
   "outputs": [
    {
     "name": "stdout",
     "output_type": "stream",
     "text": [
      "1116\n",
      "1116\n"
     ]
    }
   ],
   "source": [
    "print(df['2021']['서울'])\n",
    "print(df['2021'][0])"
   ]
  },
  {
   "cell_type": "code",
   "execution_count": 26,
   "id": "f60b4694",
   "metadata": {},
   "outputs": [
    {
     "data": {
      "text/html": [
       "<div>\n",
       "<style scoped>\n",
       "    .dataframe tbody tr th:only-of-type {\n",
       "        vertical-align: middle;\n",
       "    }\n",
       "\n",
       "    .dataframe tbody tr th {\n",
       "        vertical-align: top;\n",
       "    }\n",
       "\n",
       "    .dataframe thead th {\n",
       "        text-align: right;\n",
       "    }\n",
       "</style>\n",
       "<table border=\"1\" class=\"dataframe\">\n",
       "  <thead>\n",
       "    <tr style=\"text-align: right;\">\n",
       "      <th>특성</th>\n",
       "      <th>2018</th>\n",
       "      <th>2019</th>\n",
       "      <th>2020</th>\n",
       "      <th>2021</th>\n",
       "      <th>농지면적순위</th>\n",
       "      <th>2018-2021 변화율</th>\n",
       "    </tr>\n",
       "    <tr>\n",
       "      <th>지역</th>\n",
       "      <th></th>\n",
       "      <th></th>\n",
       "      <th></th>\n",
       "      <th></th>\n",
       "      <th></th>\n",
       "      <th></th>\n",
       "    </tr>\n",
       "  </thead>\n",
       "  <tbody>\n",
       "    <tr>\n",
       "      <th>부산</th>\n",
       "      <td>13597</td>\n",
       "      <td>12700</td>\n",
       "      <td>11075</td>\n",
       "      <td>12259</td>\n",
       "      <td>NaN</td>\n",
       "      <td>-9.840406</td>\n",
       "    </tr>\n",
       "    <tr>\n",
       "      <th>대구</th>\n",
       "      <td>16052</td>\n",
       "      <td>15148</td>\n",
       "      <td>15695</td>\n",
       "      <td>16699</td>\n",
       "      <td>NaN</td>\n",
       "      <td>4.030650</td>\n",
       "    </tr>\n",
       "    <tr>\n",
       "      <th>인천</th>\n",
       "      <td>56024</td>\n",
       "      <td>55443</td>\n",
       "      <td>56013</td>\n",
       "      <td>65119</td>\n",
       "      <td>NaN</td>\n",
       "      <td>16.234114</td>\n",
       "    </tr>\n",
       "    <tr>\n",
       "      <th>서울</th>\n",
       "      <td>712</td>\n",
       "      <td>678</td>\n",
       "      <td>628</td>\n",
       "      <td>1116</td>\n",
       "      <td>NaN</td>\n",
       "      <td>56.741573</td>\n",
       "    </tr>\n",
       "  </tbody>\n",
       "</table>\n",
       "</div>"
      ],
      "text/plain": [
       "특성   2018   2019   2020   2021 농지면적순위  2018-2021 변화율\n",
       "지역                                                  \n",
       "부산  13597  12700  11075  12259    NaN      -9.840406\n",
       "대구  16052  15148  15695  16699    NaN       4.030650\n",
       "인천  56024  55443  56013  65119    NaN      16.234114\n",
       "서울    712    678    628   1116    NaN      56.741573"
      ]
     },
     "execution_count": 26,
     "metadata": {},
     "output_type": "execute_result"
    }
   ],
   "source": [
    "df.sort_values(by='2018-2021 변화율')"
   ]
  },
  {
   "cell_type": "code",
   "execution_count": 27,
   "id": "6d3029bf",
   "metadata": {},
   "outputs": [
    {
     "data": {
      "text/plain": [
       "[1, 2]"
      ]
     },
     "execution_count": 27,
     "metadata": {},
     "output_type": "execute_result"
    }
   ],
   "source": [
    "temp_list = [1,2,3,4]\n",
    "temp_list[:2]"
   ]
  },
  {
   "cell_type": "code",
   "execution_count": 28,
   "id": "41b17bd6",
   "metadata": {},
   "outputs": [
    {
     "data": {
      "text/html": [
       "<div>\n",
       "<style scoped>\n",
       "    .dataframe tbody tr th:only-of-type {\n",
       "        vertical-align: middle;\n",
       "    }\n",
       "\n",
       "    .dataframe tbody tr th {\n",
       "        vertical-align: top;\n",
       "    }\n",
       "\n",
       "    .dataframe thead th {\n",
       "        text-align: right;\n",
       "    }\n",
       "</style>\n",
       "<table border=\"1\" class=\"dataframe\">\n",
       "  <thead>\n",
       "    <tr style=\"text-align: right;\">\n",
       "      <th>특성</th>\n",
       "      <th>2018</th>\n",
       "      <th>2019</th>\n",
       "      <th>2020</th>\n",
       "      <th>2021</th>\n",
       "      <th>농지면적순위</th>\n",
       "      <th>2018-2021 변화율</th>\n",
       "    </tr>\n",
       "    <tr>\n",
       "      <th>지역</th>\n",
       "      <th></th>\n",
       "      <th></th>\n",
       "      <th></th>\n",
       "      <th></th>\n",
       "      <th></th>\n",
       "      <th></th>\n",
       "    </tr>\n",
       "  </thead>\n",
       "  <tbody>\n",
       "    <tr>\n",
       "      <th>서울</th>\n",
       "      <td>712</td>\n",
       "      <td>678</td>\n",
       "      <td>628</td>\n",
       "      <td>1116</td>\n",
       "      <td>NaN</td>\n",
       "      <td>56.741573</td>\n",
       "    </tr>\n",
       "    <tr>\n",
       "      <th>부산</th>\n",
       "      <td>13597</td>\n",
       "      <td>12700</td>\n",
       "      <td>11075</td>\n",
       "      <td>12259</td>\n",
       "      <td>NaN</td>\n",
       "      <td>-9.840406</td>\n",
       "    </tr>\n",
       "  </tbody>\n",
       "</table>\n",
       "</div>"
      ],
      "text/plain": [
       "특성   2018   2019   2020   2021 농지면적순위  2018-2021 변화율\n",
       "지역                                                  \n",
       "서울    712    678    628   1116    NaN      56.741573\n",
       "부산  13597  12700  11075  12259    NaN      -9.840406"
      ]
     },
     "execution_count": 28,
     "metadata": {},
     "output_type": "execute_result"
    }
   ],
   "source": [
    "df[:2]"
   ]
  },
  {
   "cell_type": "code",
   "execution_count": 29,
   "id": "096ef01e",
   "metadata": {},
   "outputs": [
    {
     "data": {
      "text/html": [
       "<div>\n",
       "<style scoped>\n",
       "    .dataframe tbody tr th:only-of-type {\n",
       "        vertical-align: middle;\n",
       "    }\n",
       "\n",
       "    .dataframe tbody tr th {\n",
       "        vertical-align: top;\n",
       "    }\n",
       "\n",
       "    .dataframe thead th {\n",
       "        text-align: right;\n",
       "    }\n",
       "</style>\n",
       "<table border=\"1\" class=\"dataframe\">\n",
       "  <thead>\n",
       "    <tr style=\"text-align: right;\">\n",
       "      <th>특성</th>\n",
       "      <th>2018</th>\n",
       "      <th>2019</th>\n",
       "      <th>2020</th>\n",
       "      <th>2021</th>\n",
       "      <th>농지면적순위</th>\n",
       "      <th>2018-2021 변화율</th>\n",
       "    </tr>\n",
       "    <tr>\n",
       "      <th>지역</th>\n",
       "      <th></th>\n",
       "      <th></th>\n",
       "      <th></th>\n",
       "      <th></th>\n",
       "      <th></th>\n",
       "      <th></th>\n",
       "    </tr>\n",
       "  </thead>\n",
       "  <tbody>\n",
       "    <tr>\n",
       "      <th>부산</th>\n",
       "      <td>13597</td>\n",
       "      <td>12700</td>\n",
       "      <td>11075</td>\n",
       "      <td>12259</td>\n",
       "      <td>NaN</td>\n",
       "      <td>-9.840406</td>\n",
       "    </tr>\n",
       "  </tbody>\n",
       "</table>\n",
       "</div>"
      ],
      "text/plain": [
       "특성   2018   2019   2020   2021 농지면적순위  2018-2021 변화율\n",
       "지역                                                  \n",
       "부산  13597  12700  11075  12259    NaN      -9.840406"
      ]
     },
     "execution_count": 29,
     "metadata": {},
     "output_type": "execute_result"
    }
   ],
   "source": [
    "# loc : 행,열의 이름을 통해\n",
    "#iloc : 정수 인자를 통해 \n",
    "df.loc[['부산']]"
   ]
  },
  {
   "cell_type": "code",
   "execution_count": 31,
   "id": "3fad6053",
   "metadata": {},
   "outputs": [
    {
     "data": {
      "text/plain": [
       "712"
      ]
     },
     "execution_count": 31,
     "metadata": {},
     "output_type": "execute_result"
    }
   ],
   "source": [
    "df.iloc[0,0]"
   ]
  },
  {
   "cell_type": "code",
   "execution_count": 32,
   "id": "5512e599",
   "metadata": {},
   "outputs": [
    {
     "data": {
      "text/plain": [
       "712"
      ]
     },
     "execution_count": 32,
     "metadata": {},
     "output_type": "execute_result"
    }
   ],
   "source": [
    "df['2018']['서울']"
   ]
  },
  {
   "cell_type": "code",
   "execution_count": 33,
   "id": "c34e1f6a",
   "metadata": {},
   "outputs": [
    {
     "data": {
      "text/plain": [
       "712"
      ]
     },
     "execution_count": 33,
     "metadata": {},
     "output_type": "execute_result"
    }
   ],
   "source": [
    "df.iloc[0][0]"
   ]
  },
  {
   "cell_type": "code",
   "execution_count": 35,
   "id": "eb75b220",
   "metadata": {},
   "outputs": [],
   "source": [
    "#실습\n",
    "index = ['철수', '영희', '길동', '슬기']\n",
    "columns = ['국어', '영어', '수학', '과학']\n",
    "data = {\n",
    "    '국어' : [80,90,70,30],\n",
    "    '영어' : [90,50,60,50],\n",
    "    '수학' : [70,100,50,70],\n",
    "    '과학' : [30,50,80,80]\n",
    "}\n",
    "df = pd.DataFrame(data, index=index, columns=columns)"
   ]
  },
  {
   "cell_type": "code",
   "execution_count": 36,
   "id": "53c351cc",
   "metadata": {},
   "outputs": [
    {
     "data": {
      "text/html": [
       "<div>\n",
       "<style scoped>\n",
       "    .dataframe tbody tr th:only-of-type {\n",
       "        vertical-align: middle;\n",
       "    }\n",
       "\n",
       "    .dataframe tbody tr th {\n",
       "        vertical-align: top;\n",
       "    }\n",
       "\n",
       "    .dataframe thead th {\n",
       "        text-align: right;\n",
       "    }\n",
       "</style>\n",
       "<table border=\"1\" class=\"dataframe\">\n",
       "  <thead>\n",
       "    <tr style=\"text-align: right;\">\n",
       "      <th></th>\n",
       "      <th>국어</th>\n",
       "      <th>영어</th>\n",
       "      <th>수학</th>\n",
       "      <th>과학</th>\n",
       "    </tr>\n",
       "  </thead>\n",
       "  <tbody>\n",
       "    <tr>\n",
       "      <th>철수</th>\n",
       "      <td>80</td>\n",
       "      <td>90</td>\n",
       "      <td>70</td>\n",
       "      <td>30</td>\n",
       "    </tr>\n",
       "    <tr>\n",
       "      <th>영희</th>\n",
       "      <td>90</td>\n",
       "      <td>50</td>\n",
       "      <td>100</td>\n",
       "      <td>50</td>\n",
       "    </tr>\n",
       "    <tr>\n",
       "      <th>길동</th>\n",
       "      <td>70</td>\n",
       "      <td>60</td>\n",
       "      <td>50</td>\n",
       "      <td>80</td>\n",
       "    </tr>\n",
       "    <tr>\n",
       "      <th>슬기</th>\n",
       "      <td>30</td>\n",
       "      <td>50</td>\n",
       "      <td>70</td>\n",
       "      <td>80</td>\n",
       "    </tr>\n",
       "  </tbody>\n",
       "</table>\n",
       "</div>"
      ],
      "text/plain": [
       "    국어  영어   수학  과학\n",
       "철수  80  90   70  30\n",
       "영희  90  50  100  50\n",
       "길동  70  60   50  80\n",
       "슬기  30  50   70  80"
      ]
     },
     "execution_count": 36,
     "metadata": {},
     "output_type": "execute_result"
    }
   ],
   "source": [
    "df"
   ]
  },
  {
   "cell_type": "code",
   "execution_count": 37,
   "id": "571987d7",
   "metadata": {},
   "outputs": [],
   "source": [
    "df['평균'] = df.mean(axis=1)"
   ]
  },
  {
   "cell_type": "code",
   "execution_count": 40,
   "id": "a3026b9b",
   "metadata": {},
   "outputs": [],
   "source": [
    "df.loc['평균'] = df.mean()"
   ]
  },
  {
   "cell_type": "code",
   "execution_count": 41,
   "id": "f85ce3eb",
   "metadata": {},
   "outputs": [
    {
     "data": {
      "text/html": [
       "<div>\n",
       "<style scoped>\n",
       "    .dataframe tbody tr th:only-of-type {\n",
       "        vertical-align: middle;\n",
       "    }\n",
       "\n",
       "    .dataframe tbody tr th {\n",
       "        vertical-align: top;\n",
       "    }\n",
       "\n",
       "    .dataframe thead th {\n",
       "        text-align: right;\n",
       "    }\n",
       "</style>\n",
       "<table border=\"1\" class=\"dataframe\">\n",
       "  <thead>\n",
       "    <tr style=\"text-align: right;\">\n",
       "      <th></th>\n",
       "      <th>국어</th>\n",
       "      <th>영어</th>\n",
       "      <th>수학</th>\n",
       "      <th>과학</th>\n",
       "      <th>평균</th>\n",
       "    </tr>\n",
       "  </thead>\n",
       "  <tbody>\n",
       "    <tr>\n",
       "      <th>철수</th>\n",
       "      <td>80.0</td>\n",
       "      <td>90.0</td>\n",
       "      <td>70.0</td>\n",
       "      <td>30.0</td>\n",
       "      <td>67.500</td>\n",
       "    </tr>\n",
       "    <tr>\n",
       "      <th>영희</th>\n",
       "      <td>90.0</td>\n",
       "      <td>50.0</td>\n",
       "      <td>100.0</td>\n",
       "      <td>50.0</td>\n",
       "      <td>72.500</td>\n",
       "    </tr>\n",
       "    <tr>\n",
       "      <th>길동</th>\n",
       "      <td>70.0</td>\n",
       "      <td>60.0</td>\n",
       "      <td>50.0</td>\n",
       "      <td>80.0</td>\n",
       "      <td>65.000</td>\n",
       "    </tr>\n",
       "    <tr>\n",
       "      <th>슬기</th>\n",
       "      <td>30.0</td>\n",
       "      <td>50.0</td>\n",
       "      <td>70.0</td>\n",
       "      <td>80.0</td>\n",
       "      <td>57.500</td>\n",
       "    </tr>\n",
       "    <tr>\n",
       "      <th>평균</th>\n",
       "      <td>67.5</td>\n",
       "      <td>62.5</td>\n",
       "      <td>72.5</td>\n",
       "      <td>60.0</td>\n",
       "      <td>65.625</td>\n",
       "    </tr>\n",
       "  </tbody>\n",
       "</table>\n",
       "</div>"
      ],
      "text/plain": [
       "      국어    영어     수학    과학      평균\n",
       "철수  80.0  90.0   70.0  30.0  67.500\n",
       "영희  90.0  50.0  100.0  50.0  72.500\n",
       "길동  70.0  60.0   50.0  80.0  65.000\n",
       "슬기  30.0  50.0   70.0  80.0  57.500\n",
       "평균  67.5  62.5   72.5  60.0  65.625"
      ]
     },
     "execution_count": 41,
     "metadata": {},
     "output_type": "execute_result"
    }
   ],
   "source": [
    "df"
   ]
  },
  {
   "cell_type": "code",
   "execution_count": null,
   "id": "0c2b83ee",
   "metadata": {},
   "outputs": [],
   "source": []
  }
 ],
 "metadata": {
  "kernelspec": {
   "display_name": "Python 3 (ipykernel)",
   "language": "python",
   "name": "python3"
  },
  "language_info": {
   "codemirror_mode": {
    "name": "ipython",
    "version": 3
   },
   "file_extension": ".py",
   "mimetype": "text/x-python",
   "name": "python",
   "nbconvert_exporter": "python",
   "pygments_lexer": "ipython3",
   "version": "3.9.12"
  }
 },
 "nbformat": 4,
 "nbformat_minor": 5
}
